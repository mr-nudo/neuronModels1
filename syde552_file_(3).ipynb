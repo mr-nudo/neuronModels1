{
  "cells": [
    {
      "cell_type": "markdown",
      "metadata": {
        "id": "view-in-github",
        "colab_type": "text"
      },
      "source": [
        "<a href=\"https://colab.research.google.com/github/mr-nudo/neuronModels1/blob/master/syde552_file_(3).ipynb\" target=\"_parent\"><img src=\"https://colab.research.google.com/assets/colab-badge.svg\" alt=\"Open In Colab\"/></a>"
      ]
    },
    {
      "cell_type": "markdown",
      "metadata": {
        "id": "_sJm0w7Qwuh3"
      },
      "source": [
        "# SYDE 552 Assignment 3: Hippocampal Models\n",
        "### Due Monday, March, Anywhere on Earth\n",
        "### Value: 15% of total marks for the course\n",
        "\n",
        "The purpose of this assigment is to give you experience working with associative memories. To do so, we'll be using pytorch to implement different associative memory models.\n",
        "\n",
        "You can work in groups to do the assignment, but your answers and code must be original to you. Your submission will be a filled-out copy of this notebook (cells for code and written answers provided)."
      ],
      "id": "_sJm0w7Qwuh3"
    },
    {
      "cell_type": "markdown",
      "metadata": {
        "id": "mBoLW_Jcwuh5"
      },
      "source": [
        "# 1. The Hippocampus\n",
        "\n",
        "**1.a) [2 marks]** The hippocampus is implicated in spatial navigation and episodic memory.  How do we know this?  What are some of the neuroscience results that revealed these facilities of the hippocampus?  (see Kandel *et al.* Ch. 65)"
      ],
      "id": "mBoLW_Jcwuh5"
    },
    {
      "cell_type": "markdown",
      "metadata": {
        "id": "4PPSGRvOwuh6"
      },
      "source": [
        "The case study of H.M, who had bilateral hippocampal damage due to surgery to treat severe epilepsy, provided early evidence for the role of the hippocampus in episodic memory. After the surgery, it was observed that H.M. experienced inability to form new memories, particularly the memory of personal experiences or autobiographical memory.\n",
        "\n",
        "Furthermore, functional MRI studies have shown that deep encoding tasks, such as attending to the meaning of information, activate regions of the medial temporal lobe, particularly the hippocampus, more strongly than shallow encoding tasks.\n",
        "\n",
        "Additionally, studies by Anthony Wagner and colleagues using event-related fMRI have demonstrated enhanced activity in the prefrontal cortex during encoding of information that is later successfully recalled. Similarly, greater activity in the medial temporal lobe during encoding is associated with subsequent memory recall, indicating the importance of interaction between prefrontal cortex and medial temporal lobe regions in episodic memory formation."
      ],
      "id": "4PPSGRvOwuh6"
    },
    {
      "cell_type": "markdown",
      "metadata": {
        "id": "x23IxztVwuh6"
      },
      "source": [
        "**1.b) [2 marks]** The Gluck and Meyers model of hippocampus is a simple, effective model of hippocampus, and how representations may be constructed for the slow transfer to the neocortex.  However, it still has its limitations.  Explain some (two or more) of the limitations of the Gluck and Meyers model.  (The Gluck and Meyers Ch.6 reading will be useful in answering this question.)"
      ],
      "id": "x23IxztVwuh6"
    },
    {
      "cell_type": "markdown",
      "metadata": {
        "id": "7mSrlHKVwuh6"
      },
      "source": [
        "#### Your answer here"
      ],
      "id": "7mSrlHKVwuh6"
    },
    {
      "cell_type": "markdown",
      "metadata": {
        "id": "SDPr8S3Nwuh7"
      },
      "source": [
        "**1.c) [2 mark]** Unsupervised pre-training is integral to the Gluck and Meyers model of Hippocampus, and unsupervised pre-training has been shown to accelerate reinforcement learning in rats navigating mazes.  However, unsupervised pre-training is not common in deep learning techniques.  Describe why that may be.  (See [$\\S 15.1$ of Goodfellow *et al.*](https://www.deeplearningbook.org/contents/representation.html))"
      ],
      "id": "SDPr8S3Nwuh7"
    },
    {
      "cell_type": "markdown",
      "metadata": {
        "id": "Kb3nYwH4wuh7"
      },
      "source": [
        "#### Your answer here"
      ],
      "id": "Kb3nYwH4wuh7"
    },
    {
      "cell_type": "markdown",
      "metadata": {
        "id": "yK0SJ4Wuwuh7"
      },
      "source": [
        "# 2. Hopfield Networks\n",
        "\n",
        "## Preliminaries\n",
        "\n",
        "Although you should have installed them for prior assignments, we will require the pytorch and keras. Let's install those now/\n",
        "\n",
        "```pip install torch keras```\n",
        "\n",
        "Next, we will download the MNIST dataset.  We will do this through the Keras library instead of torchvision.\n",
        "\n",
        "Some people have been having problems with the code in the next block due to certificate errors.  If you do have this problem, try using the following code:\n",
        "\n",
        "```python\n",
        "import ssl\n",
        "import keras.datasets.mnist\n",
        "ssl._create_default_https_context = ssl._create_unverified_context\n",
        "(x_train, y_train), (x_test, y_test) = keras.datasets.mnist.load_data()\n",
        "```\n",
        "\n",
        "I don't recommend doing this if you don't have too - ignoring certificate errors is bad security practice."
      ],
      "id": "yK0SJ4Wuwuh7"
    },
    {
      "cell_type": "code",
      "execution_count": 2,
      "metadata": {
        "colab": {
          "base_uri": "https://localhost:8080/"
        },
        "id": "z8xtiWzgwuh8",
        "outputId": "9207d41b-a6c1-4ad1-9656-e18b98af9d9c"
      },
      "outputs": [
        {
          "output_type": "stream",
          "name": "stdout",
          "text": [
            "Requirement already satisfied: torch in /usr/local/lib/python3.10/dist-packages (2.2.1+cu121)\n",
            "Requirement already satisfied: keras in /usr/local/lib/python3.10/dist-packages (2.15.0)\n",
            "Requirement already satisfied: filelock in /usr/local/lib/python3.10/dist-packages (from torch) (3.13.1)\n",
            "Requirement already satisfied: typing-extensions>=4.8.0 in /usr/local/lib/python3.10/dist-packages (from torch) (4.10.0)\n",
            "Requirement already satisfied: sympy in /usr/local/lib/python3.10/dist-packages (from torch) (1.12)\n",
            "Requirement already satisfied: networkx in /usr/local/lib/python3.10/dist-packages (from torch) (3.2.1)\n",
            "Requirement already satisfied: jinja2 in /usr/local/lib/python3.10/dist-packages (from torch) (3.1.3)\n",
            "Requirement already satisfied: fsspec in /usr/local/lib/python3.10/dist-packages (from torch) (2023.6.0)\n",
            "Collecting nvidia-cuda-nvrtc-cu12==12.1.105 (from torch)\n",
            "  Downloading nvidia_cuda_nvrtc_cu12-12.1.105-py3-none-manylinux1_x86_64.whl (23.7 MB)\n",
            "\u001b[2K     \u001b[90m━━━━━━━━━━━━━━━━━━━━━━━━━━━━━━━━━━━━━━━━\u001b[0m \u001b[32m23.7/23.7 MB\u001b[0m \u001b[31m12.6 MB/s\u001b[0m eta \u001b[36m0:00:00\u001b[0m\n",
            "\u001b[?25hCollecting nvidia-cuda-runtime-cu12==12.1.105 (from torch)\n",
            "  Downloading nvidia_cuda_runtime_cu12-12.1.105-py3-none-manylinux1_x86_64.whl (823 kB)\n",
            "\u001b[2K     \u001b[90m━━━━━━━━━━━━━━━━━━━━━━━━━━━━━━━━━━━━━━━━\u001b[0m \u001b[32m823.6/823.6 kB\u001b[0m \u001b[31m13.8 MB/s\u001b[0m eta \u001b[36m0:00:00\u001b[0m\n",
            "\u001b[?25hCollecting nvidia-cuda-cupti-cu12==12.1.105 (from torch)\n",
            "  Downloading nvidia_cuda_cupti_cu12-12.1.105-py3-none-manylinux1_x86_64.whl (14.1 MB)\n",
            "\u001b[2K     \u001b[90m━━━━━━━━━━━━━━━━━━━━━━━━━━━━━━━━━━━━━━━━\u001b[0m \u001b[32m14.1/14.1 MB\u001b[0m \u001b[31m18.8 MB/s\u001b[0m eta \u001b[36m0:00:00\u001b[0m\n",
            "\u001b[?25hCollecting nvidia-cudnn-cu12==8.9.2.26 (from torch)\n",
            "  Downloading nvidia_cudnn_cu12-8.9.2.26-py3-none-manylinux1_x86_64.whl (731.7 MB)\n",
            "\u001b[2K     \u001b[90m━━━━━━━━━━━━━━━━━━━━━━━━━━━━━━━━━━━━━━━━\u001b[0m \u001b[32m731.7/731.7 MB\u001b[0m \u001b[31m738.8 kB/s\u001b[0m eta \u001b[36m0:00:00\u001b[0m\n",
            "\u001b[?25hCollecting nvidia-cublas-cu12==12.1.3.1 (from torch)\n",
            "  Downloading nvidia_cublas_cu12-12.1.3.1-py3-none-manylinux1_x86_64.whl (410.6 MB)\n",
            "\u001b[2K     \u001b[90m━━━━━━━━━━━━━━━━━━━━━━━━━━━━━━━━━━━━━━━━\u001b[0m \u001b[32m410.6/410.6 MB\u001b[0m \u001b[31m3.1 MB/s\u001b[0m eta \u001b[36m0:00:00\u001b[0m\n",
            "\u001b[?25hCollecting nvidia-cufft-cu12==11.0.2.54 (from torch)\n",
            "  Downloading nvidia_cufft_cu12-11.0.2.54-py3-none-manylinux1_x86_64.whl (121.6 MB)\n",
            "\u001b[2K     \u001b[90m━━━━━━━━━━━━━━━━━━━━━━━━━━━━━━━━━━━━━━━━\u001b[0m \u001b[32m121.6/121.6 MB\u001b[0m \u001b[31m7.9 MB/s\u001b[0m eta \u001b[36m0:00:00\u001b[0m\n",
            "\u001b[?25hCollecting nvidia-curand-cu12==10.3.2.106 (from torch)\n",
            "  Downloading nvidia_curand_cu12-10.3.2.106-py3-none-manylinux1_x86_64.whl (56.5 MB)\n",
            "\u001b[2K     \u001b[90m━━━━━━━━━━━━━━━━━━━━━━━━━━━━━━━━━━━━━━━━\u001b[0m \u001b[32m56.5/56.5 MB\u001b[0m \u001b[31m10.0 MB/s\u001b[0m eta \u001b[36m0:00:00\u001b[0m\n",
            "\u001b[?25hCollecting nvidia-cusolver-cu12==11.4.5.107 (from torch)\n",
            "  Downloading nvidia_cusolver_cu12-11.4.5.107-py3-none-manylinux1_x86_64.whl (124.2 MB)\n",
            "\u001b[2K     \u001b[90m━━━━━━━━━━━━━━━━━━━━━━━━━━━━━━━━━━━━━━━━\u001b[0m \u001b[32m124.2/124.2 MB\u001b[0m \u001b[31m7.9 MB/s\u001b[0m eta \u001b[36m0:00:00\u001b[0m\n",
            "\u001b[?25hCollecting nvidia-cusparse-cu12==12.1.0.106 (from torch)\n",
            "  Downloading nvidia_cusparse_cu12-12.1.0.106-py3-none-manylinux1_x86_64.whl (196.0 MB)\n",
            "\u001b[2K     \u001b[90m━━━━━━━━━━━━━━━━━━━━━━━━━━━━━━━━━━━━━━━━\u001b[0m \u001b[32m196.0/196.0 MB\u001b[0m \u001b[31m2.2 MB/s\u001b[0m eta \u001b[36m0:00:00\u001b[0m\n",
            "\u001b[?25hCollecting nvidia-nccl-cu12==2.19.3 (from torch)\n",
            "  Downloading nvidia_nccl_cu12-2.19.3-py3-none-manylinux1_x86_64.whl (166.0 MB)\n",
            "\u001b[2K     \u001b[90m━━━━━━━━━━━━━━━━━━━━━━━━━━━━━━━━━━━━━━━━\u001b[0m \u001b[32m166.0/166.0 MB\u001b[0m \u001b[31m6.6 MB/s\u001b[0m eta \u001b[36m0:00:00\u001b[0m\n",
            "\u001b[?25hCollecting nvidia-nvtx-cu12==12.1.105 (from torch)\n",
            "  Downloading nvidia_nvtx_cu12-12.1.105-py3-none-manylinux1_x86_64.whl (99 kB)\n",
            "\u001b[2K     \u001b[90m━━━━━━━━━━━━━━━━━━━━━━━━━━━━━━━━━━━━━━━━\u001b[0m \u001b[32m99.1/99.1 kB\u001b[0m \u001b[31m10.3 MB/s\u001b[0m eta \u001b[36m0:00:00\u001b[0m\n",
            "\u001b[?25hRequirement already satisfied: triton==2.2.0 in /usr/local/lib/python3.10/dist-packages (from torch) (2.2.0)\n",
            "Collecting nvidia-nvjitlink-cu12 (from nvidia-cusolver-cu12==11.4.5.107->torch)\n",
            "  Downloading nvidia_nvjitlink_cu12-12.4.99-py3-none-manylinux2014_x86_64.whl (21.1 MB)\n",
            "\u001b[2K     \u001b[90m━━━━━━━━━━━━━━━━━━━━━━━━━━━━━━━━━━━━━━━━\u001b[0m \u001b[32m21.1/21.1 MB\u001b[0m \u001b[31m61.5 MB/s\u001b[0m eta \u001b[36m0:00:00\u001b[0m\n",
            "\u001b[?25hRequirement already satisfied: MarkupSafe>=2.0 in /usr/local/lib/python3.10/dist-packages (from jinja2->torch) (2.1.5)\n",
            "Requirement already satisfied: mpmath>=0.19 in /usr/local/lib/python3.10/dist-packages (from sympy->torch) (1.3.0)\n",
            "Installing collected packages: nvidia-nvtx-cu12, nvidia-nvjitlink-cu12, nvidia-nccl-cu12, nvidia-curand-cu12, nvidia-cufft-cu12, nvidia-cuda-runtime-cu12, nvidia-cuda-nvrtc-cu12, nvidia-cuda-cupti-cu12, nvidia-cublas-cu12, nvidia-cusparse-cu12, nvidia-cudnn-cu12, nvidia-cusolver-cu12\n",
            "Successfully installed nvidia-cublas-cu12-12.1.3.1 nvidia-cuda-cupti-cu12-12.1.105 nvidia-cuda-nvrtc-cu12-12.1.105 nvidia-cuda-runtime-cu12-12.1.105 nvidia-cudnn-cu12-8.9.2.26 nvidia-cufft-cu12-11.0.2.54 nvidia-curand-cu12-10.3.2.106 nvidia-cusolver-cu12-11.4.5.107 nvidia-cusparse-cu12-12.1.0.106 nvidia-nccl-cu12-2.19.3 nvidia-nvjitlink-cu12-12.4.99 nvidia-nvtx-cu12-12.1.105\n",
            "Downloading data from https://storage.googleapis.com/tensorflow/tf-keras-datasets/mnist.npz\n",
            "11490434/11490434 [==============================] - 0s 0us/step\n"
          ]
        }
      ],
      "source": [
        "!pip install torch keras\n",
        "import ssl\n",
        "import keras.datasets.mnist\n",
        "(x_train, y_train), (x_test, y_test) = keras.datasets.mnist.load_data()"
      ],
      "id": "z8xtiWzgwuh8"
    },
    {
      "cell_type": "markdown",
      "metadata": {
        "id": "WhEH-0nrwuh9"
      },
      "source": [
        "As before, we will examine some of the images to make sure we got them right."
      ],
      "id": "WhEH-0nrwuh9"
    },
    {
      "cell_type": "code",
      "execution_count": 3,
      "metadata": {
        "colab": {
          "base_uri": "https://localhost:8080/",
          "height": 675
        },
        "id": "nPGhlzvTwuh9",
        "outputId": "2f4b1b5d-5055-4583-c03a-3eb6bc7f67fb"
      },
      "outputs": [
        {
          "output_type": "display_data",
          "data": {
            "text/plain": [
              "<Figure size 1400x800 with 24 Axes>"
            ],
            "image/png": "[encoded data removed]"
          },
          "metadata": {}
        }
      ],
      "source": [
        "%matplotlib inline\n",
        "import matplotlib.pyplot as plt\n",
        "plt.figure(figsize=(14,8))\n",
        "for i in range(24):\n",
        "    plt.subplot(4, 6, i+1)\n",
        "    plt.imshow(x_train[i].reshape((28,28)), vmin=0, vmax=255, cmap='gray_r')\n",
        "    plt.xticks([])\n",
        "    plt.yticks([])\n",
        "    plt.title(int(y_train[i]))"
      ],
      "id": "nPGhlzvTwuh9"
    },
    {
      "cell_type": "markdown",
      "metadata": {
        "id": "FTchGZoBwuh9"
      },
      "source": [
        "Normally, the MNIST dataset has images represented by values in the range $[0,255]$. However, since we are dealing with Hopfield networks, we are going to binarize the data."
      ],
      "id": "FTchGZoBwuh9"
    },
    {
      "cell_type": "code",
      "execution_count": 4,
      "metadata": {
        "id": "KXWNY3Yiwuh9"
      },
      "outputs": [],
      "source": [
        "def binarize(xs):\n",
        "    '''\n",
        "    xs : a num_samples by num_features array of images.\n",
        "    '''\n",
        "    binary = (xs / 255) > 0.5\n",
        "    integer = 2 * binary - 1\n",
        "    return integer\n",
        "\n",
        "binary_imgs = binarize(x_train)\n"
      ],
      "id": "KXWNY3Yiwuh9"
    },
    {
      "cell_type": "markdown",
      "metadata": {
        "id": "v946w_dpwuh9"
      },
      "source": [
        "Further, to make things easy on our network, we are only going to look at images of the digits 0, 1, and 2"
      ],
      "id": "v946w_dpwuh9"
    },
    {
      "cell_type": "code",
      "execution_count": 5,
      "metadata": {
        "id": "500brBsrwuh-"
      },
      "outputs": [],
      "source": [
        "binary_imgs = binary_imgs[y_train < 3,:]"
      ],
      "id": "500brBsrwuh-"
    },
    {
      "cell_type": "code",
      "execution_count": 6,
      "metadata": {
        "colab": {
          "base_uri": "https://localhost:8080/",
          "height": 675
        },
        "id": "TzyTItWRwuh-",
        "outputId": "151f45b9-43c6-4e74-8369-3392c759c1c0"
      },
      "outputs": [
        {
          "output_type": "display_data",
          "data": {
            "text/plain": [
              "<Figure size 1400x800 with 24 Axes>"
            ],
            "image/png": "[encoded data removed]"
          },
          "metadata": {}
        }
      ],
      "source": [
        "plt.figure(figsize=(14,8))\n",
        "for i in range(24):\n",
        "    plt.subplot(4, 6, i+1)\n",
        "    plt.imshow(binary_imgs[i].reshape((28,28)), vmin=-1, vmax=1, cmap='gray_r')\n",
        "    plt.xticks([])\n",
        "    plt.yticks([])\n",
        "    plt.title(int(y_train[i]))"
      ],
      "id": "TzyTItWRwuh-"
    },
    {
      "cell_type": "markdown",
      "metadata": {
        "id": "cPviHw9cwuh-"
      },
      "source": [
        "We will also need to reshape the data into a vector representation, and then covert it to a pytorch tensor"
      ],
      "id": "cPviHw9cwuh-"
    },
    {
      "cell_type": "code",
      "execution_count": 8,
      "metadata": {
        "id": "e9BuwkF3wuh-"
      },
      "outputs": [],
      "source": [
        "import torch\n",
        "\n",
        "binary_img_vecs = binary_imgs.reshape((-1,28*28))\n",
        "binary_img_tensor = torch.from_numpy(binary_img_vecs).to(torch.float32)"
      ],
      "id": "e9BuwkF3wuh-"
    },
    {
      "cell_type": "markdown",
      "metadata": {
        "id": "M-300WGBwuh-"
      },
      "source": [
        "\n",
        "**2.a) [2 Marks]**  Implement the Hopfield Network using Hopfield's learning rule.\n",
        "\n",
        "We will first implement the Hopfield network using the outer product formulation for the weight matrix.  Given a set of patterns $\\mathbf{x}_{i}$, by first computing the matrix\n",
        "\n",
        "$$D = \\frac{1}{N}\\sum_{i}^{N} (\\mathbf{x}_{i}-\\theta)(\\mathbf{x}_{i}-\\theta)^T$$.\n",
        "\n",
        "where $\\theta = \\frac{1}{ND}\\sum_{i}^{N}\\sum_{j}^{D} x_{i,j}$, i.e., the average value of all elements in the training data.\n",
        "\n",
        "Next we remove the diagonal element of the matrix, making the weight matrix:\n",
        "\n",
        "$$\n",
        "W = D - \\mathrm{diag}(D),\n",
        "$$\n",
        "\n",
        "where $\\mathrm{diag}(D)$ is the diagonal of the $D$ matrix.  Note that when implementing this in numpy or pytorch we must apply the ```diag``` function twice, i.e.:\n",
        "\n",
        "```\n",
        "W = D - torch.diag(torch.diag(D))\n",
        "\n",
        "```\n",
        "\n",
        "Here is some code to implement the learning rule:"
      ],
      "id": "M-300WGBwuh-"
    },
    {
      "cell_type": "code",
      "execution_count": 9,
      "metadata": {
        "id": "dLEUAN7Ewuh-"
      },
      "outputs": [],
      "source": [
        "import torch\n",
        "def outer_product_hopfield_matrix(training_patterns):\n",
        "    '''\n",
        "    train_hopfield_matrix - produces a matrix for a (non-Modern) Hopfield network using the outer product rule.\n",
        "\n",
        "    Parameters:\n",
        "    -----------\n",
        "\n",
        "    training_patterns : torch.Tensor\n",
        "\n",
        "        A Tensor of shape (num_patterns, num_features) that will be used to construct the weight matrix.\n",
        "\n",
        "    Returns:\n",
        "    --------\n",
        "\n",
        "    W : torch.Tensor\n",
        "\n",
        "        A (num_features, num_features) Tensor that stores the papers encoded in the network.\n",
        "    '''\n",
        "\n",
        "    theta = torch.sum(training_patterns) / (training_patterns.shape[0] * training_patterns.shape[1])\n",
        "    D = torch.einsum('nd,ne->de', training_patterns - theta, training_patterns - theta) / float(training_patterns.shape[0])\n",
        "    W = (D - torch.diag(torch.diag(D)))\n",
        "    return W\n",
        "\n",
        "def evaluate_hopfield_network(W, input_pattern, training_patterns=None, num_iters = 5, threshold=0):\n",
        "    '''\n",
        "    Evaluates a Hopfield network with weight matrix W on a number of tets patterns.  Also computed the similarity\n",
        "    '''\n",
        "\n",
        "    assert input_pattern.shape[1] == 1, f'''This function assumes you are cleaning up one pattern at a time.\n",
        "                                            Expected the input to be shape (1,{input_pattern.shape[1]}),\n",
        "                                            got {input_pattern.shape}'''\n",
        "    s = input_pattern\n",
        "\n",
        "    similarities = None\n",
        "    if training_patterns is not None:\n",
        "        similarities = torch.zeros((num_iters, training_patterns.shape[0]))\n",
        "    ### end if\n",
        "\n",
        "    for i in range(num_iters):\n",
        "        s = torch.sign(W @ s - threshold)\n",
        "\n",
        "        if training_patterns is not None:\n",
        "            similarities[i,:] = torch.einsum('d,nd->n',s,training_patterns)\n",
        "        ### end if\n",
        "    ### end for\n",
        "    return s, similarities"
      ],
      "id": "dLEUAN7Ewuh-"
    },
    {
      "cell_type": "markdown",
      "metadata": {
        "id": "qJNgZUXDwuh_"
      },
      "source": [
        "We want you to do the following things:\n",
        "\n",
        "1. Compute the capacity of the network, using the expression $C \\approx \\frac{d}{2\\log_{2}(d)}$, where $d$ is the number of neurons.\n",
        "2. For a training set of 10 patterns, plot the original image and the reconstructed image side-by-side.\n",
        "3. Plot the training and test error (Mean squared error between the predicted and true values) of the Hopfield network as a function of the number of patterns stored in the network up to capacity, $C$, for five randomly selected training sets selected from ```binary_img_tensor```.\n",
        "4. For a training set of size 10 patterns, add salt and pepper noise (bit flips) to the **testing** images and compute the testing error as the probability of noise increases.  Note: Compare the reconstructed images to the non-noisy images, e.g., for any test image you would do something like:\n",
        "\n",
        "```python\n",
        "noisy_image = corrupt(test_image, noise_level)\n",
        "reconstructed_images = evaluate_hopfield_network(W, noisy_image.T)\n",
        "error = mse(reconstructed_images, test_images)\n",
        "```"
      ],
      "id": "qJNgZUXDwuh_"
    },
    {
      "cell_type": "code",
      "execution_count": 16,
      "metadata": {
        "id": "Cx8TmuIYwuh_"
      },
      "outputs": [],
      "source": [
        "## 2.a.1 - Compute network capacity.\n",
        "# C = # your code here\n",
        "d = binary_img_tensor[1]\n",
        "C = (d / (2 * torch.log2(d))) * d"
      ],
      "id": "Cx8TmuIYwuh_"
    },
    {
      "cell_type": "code",
      "execution_count": 21,
      "metadata": {
        "colab": {
          "base_uri": "https://localhost:8080/",
          "height": 1000
        },
        "id": "jjgCsAMywuh_",
        "outputId": "290c7be8-70ad-4aed-b386-f39a1a0fe6ba"
      },
      "outputs": [
        {
          "output_type": "display_data",
          "data": {
            "text/plain": [
              "<Figure size 1000x2000 with 20 Axes>"
            ],
            "image/png": "[encoded data removed]"
          },
          "metadata": {}
        }
      ],
      "source": [
        "# 2.a.2 - plot original and reconstructed images\n",
        "plt.figure(figsize=(10, 20))\n",
        "\n",
        "# create weight matrix, W\n",
        "W = outer_product_hopfield_matrix(binary_img_tensor[:10])\n",
        "\n",
        "for i in range(10):\n",
        "    # reconstruct training image, i\n",
        "    reconstructed_image = torch.sign(torch.matmul(W, binary_img_tensor[i]))\n",
        "\n",
        "    plt.subplot(10, 2, 1 + 2 * i)\n",
        "    # plot original image\n",
        "    plt.imshow(binary_img_tensor[i].reshape(28, 28), cmap='gray')\n",
        "    plt.title(\"Original\")\n",
        "    plt.axis('off')\n",
        "\n",
        "    plt.subplot(10, 2, 2 + 2 * i)\n",
        "    # plot reconstructed image\n",
        "    plt.imshow(reconstructed_image.reshape(28, 28), cmap='gray')\n",
        "    plt.title(\"Reconstructed\")\n",
        "    plt.axis('off')\n",
        "\n",
        "plt.tight_layout()\n",
        "plt.show()"
      ],
      "id": "jjgCsAMywuh_"
    },
    {
      "cell_type": "code",
      "execution_count": 47,
      "metadata": {
        "colab": {
          "base_uri": "https://localhost:8080/",
          "height": 228
        },
        "id": "Pr6VXYwmwuh_",
        "outputId": "ac6f7c99-d577-4770-c0f5-cd7fb987247f"
      },
      "outputs": [
        {
          "output_type": "stream",
          "name": "stdout",
          "text": [
            "18623\n"
          ]
        },
        {
          "output_type": "error",
          "ename": "TypeError",
          "evalue": "only integer tensors of a single element can be converted to an index",
          "traceback": [
            "\u001b[0;31m---------------------------------------------------------------------------\u001b[0m",
            "\u001b[0;31mTypeError\u001b[0m                                 Traceback (most recent call last)",
            "\u001b[0;32m<ipython-input-47-c2b28deac6e3>\u001b[0m in \u001b[0;36m<cell line: 33>\u001b[0;34m()\u001b[0m\n\u001b[1;32m     34\u001b[0m     \u001b[0;31m# Randomly select training patterns\u001b[0m\u001b[0;34m\u001b[0m\u001b[0;34m\u001b[0m\u001b[0m\n\u001b[1;32m     35\u001b[0m     \u001b[0mprint\u001b[0m\u001b[0;34m(\u001b[0m\u001b[0mbinary_img_tensor\u001b[0m\u001b[0;34m.\u001b[0m\u001b[0mshape\u001b[0m\u001b[0;34m[\u001b[0m\u001b[0;36m0\u001b[0m\u001b[0;34m]\u001b[0m\u001b[0;34m)\u001b[0m\u001b[0;34m\u001b[0m\u001b[0;34m\u001b[0m\u001b[0m\n\u001b[0;32m---> 36\u001b[0;31m     \u001b[0mrandom_indices\u001b[0m \u001b[0;34m=\u001b[0m \u001b[0mtorch\u001b[0m\u001b[0;34m.\u001b[0m\u001b[0mrandperm\u001b[0m\u001b[0;34m(\u001b[0m\u001b[0mbinary_img_tensor\u001b[0m\u001b[0;34m.\u001b[0m\u001b[0mshape\u001b[0m\u001b[0;34m[\u001b[0m\u001b[0;36m0\u001b[0m\u001b[0;34m]\u001b[0m\u001b[0;34m)\u001b[0m\u001b[0;34m[\u001b[0m\u001b[0;34m:\u001b[0m\u001b[0mC\u001b[0m\u001b[0;34m[\u001b[0m\u001b[0;36m0\u001b[0m\u001b[0;34m]\u001b[0m\u001b[0;34m]\u001b[0m\u001b[0;34m\u001b[0m\u001b[0;34m\u001b[0m\u001b[0m\n\u001b[0m\u001b[1;32m     37\u001b[0m     \u001b[0mtraining_patterns\u001b[0m \u001b[0;34m=\u001b[0m \u001b[0mbinary_img_tensor\u001b[0m\u001b[0;34m[\u001b[0m\u001b[0mrandom_indices\u001b[0m\u001b[0;34m]\u001b[0m\u001b[0;34m\u001b[0m\u001b[0;34m\u001b[0m\u001b[0m\n\u001b[1;32m     38\u001b[0m \u001b[0;34m\u001b[0m\u001b[0m\n",
            "\u001b[0;31mTypeError\u001b[0m: only integer tensors of a single element can be converted to an index"
          ]
        }
      ],
      "source": [
        "# 2.a.3 - Plot training and test error\n",
        "\n",
        "def mse(true_vals, pred_vals):\n",
        "    return torch.mean((true_vals - pred_vals) ** 2)\n",
        "\n",
        "def test_network(training_pattens, test_patterns, C):\n",
        "    assert training_patterns.shape[0] == C, f'''Error: Expected training patterns to contain {C} patterns'''\n",
        "    training_error = torch.zeros((len(range(2,C)),))\n",
        "    test_error = torch.zeros((len(range(2,C)),))\n",
        "    for pattern_idx, num_patterns in enumerate(range(2,C)):\n",
        "        # train network\n",
        "        ## NOTE: you will need to change the following line if you want to use something other\n",
        "        ## than the outer product matrix.\n",
        "        W = outer_product_hopfield_matrix(training_patterns[:num_patterns,:])\n",
        "        # for each image in the training set, compute the mse\n",
        "\n",
        "        training_error_sum = 0\n",
        "        for test_idx in range(num_patterns):\n",
        "            reconstructed_train = torch.sign(torch.matmul(W, training_patterns[test_idx]))\n",
        "            reconstructed_test = torch.sign(torch.matmul(W, test_patterns[test_idx]))\n",
        "\n",
        "            training_error_sum += mse(training_patterns[test_idx], reconstructed_train)\n",
        "            test_error_sum += mse(test_patterns[test_idx], reconstructed_test)\n",
        "\n",
        "        training_error[pattern_idx] = training_error_sum / num_patterns\n",
        "        test_error[pattern_idx] = test_error_sum / test_patterns.shape[0]\n",
        "\n",
        "    return training_error, test_error\n",
        "\n",
        "# Perform tests for 5 randomly selected training sets\n",
        "# average_results = torch.zeros((5, 2, int(C.item())-2))\n",
        "average_results = []\n",
        "for trial in range(5):\n",
        "    # Randomly select training patterns\n",
        "    print(binary_img_tensor.shape[0])\n",
        "    random_indices = torch.randperm(binary_img_tensor.shape[0])[:C[0]]\n",
        "    training_patterns = binary_img_tensor[random_indices]\n",
        "\n",
        "    # Generate random test patterns\n",
        "    test_patterns = torch.randint(0, 2, (100, binary_img_tensor.shape[1])).to(torch.float32) * 2 - 1  # Binary patterns\n",
        "    test_patterns2 = binarize(binary_img_tensor.shape[1])\n",
        "    print(test_patterns, test_patterns2)\n",
        "\n",
        "    # Test network\n",
        "    training_error, test_error = test_network(training_patterns, test_patterns, C)\n",
        "    average_results[trial, 0] = training_error\n",
        "    average_results[trial, 1] = test_error\n",
        "\n",
        "# Calculate average results across trials\n",
        "average_results = torch.mean(average_results, dim=0)\n",
        "\n",
        "# Plot results\n",
        "plt.figure()\n",
        "plt.plot(range(2, C), average_results[0], label='Training Error')\n",
        "plt.plot(range(2, C), average_results[1], label='Test Error')\n",
        "plt.xlabel('Number of Patterns Stored')\n",
        "plt.ylabel('Mean Squared Error')\n",
        "plt.title('Training and Test Error of Hopfield Network')\n",
        "plt.legend()\n",
        "plt.show()"
      ],
      "id": "Pr6VXYwmwuh_"
    },
    {
      "cell_type": "code",
      "execution_count": 48,
      "metadata": {
        "colab": {
          "base_uri": "https://localhost:8080/",
          "height": 472
        },
        "id": "o6kUDRcVwuiA",
        "outputId": "3301da31-9bac-4c05-b58c-d1875b08d9e5"
      },
      "outputs": [
        {
          "output_type": "display_data",
          "data": {
            "text/plain": [
              "<Figure size 640x480 with 1 Axes>"
            ],
            "image/png": "[encoded data removed]"
          },
          "metadata": {}
        }
      ],
      "source": [
        "# 2.a.4 - Test salt-and-pepper noise.\n",
        "\n",
        "# num_steps = None ### Pick a value\n",
        "# prob_flip = torch.linspace(0.01,0.5,num_steps)\n",
        "\n",
        "# training_data = # Your code here\n",
        "# testing_data = # Your code here\n",
        "# W = # Your code here\n",
        "\n",
        "# for p_idx, p in enumerate(prob_flip):\n",
        "#     ## Your code here\n",
        "#     pass\n",
        "\n",
        "# plt.figure()\n",
        "# plt.plot(prob_flip, mses)\n",
        "\n",
        "# 2.a.4 - Test salt-and-pepper noise.\n",
        "\n",
        "num_steps = 20  # Pick a value\n",
        "prob_flip = torch.linspace(0.01, 0.5, num_steps)\n",
        "\n",
        "# Define corrupted images function\n",
        "def corrupt(image, noise_level):\n",
        "    \"\"\"\n",
        "    Add salt-and-pepper noise to the image.\n",
        "\n",
        "    Parameters:\n",
        "    image : torch.Tensor\n",
        "        Original image.\n",
        "    noise_level : float\n",
        "        Probability of a bit flip (salt or pepper noise).\n",
        "\n",
        "    Returns:\n",
        "    torch.Tensor\n",
        "        Noisy image.\n",
        "    \"\"\"\n",
        "    noisy_image = image.clone()\n",
        "    num_corruptions = int(noise_level * image.numel())\n",
        "    idx = torch.randperm(image.numel())[:num_corruptions]\n",
        "    noisy_image.view(-1)[idx] = 1 - noisy_image.view(-1)[idx]\n",
        "    return noisy_image\n",
        "\n",
        "# Initialize list to store MSEs\n",
        "mses = []\n",
        "\n",
        "# Generate training data\n",
        "training_data = binary_img_tensor[:10]\n",
        "\n",
        "# Generate testing data\n",
        "testing_data = binary_img_tensor[10000:10010]  # Adjust range as per your requirement\n",
        "\n",
        "# Calculate weight matrix\n",
        "W = outer_product_hopfield_matrix(training_data)\n",
        "\n",
        "# Iterate over different noise levels\n",
        "for p_idx, p in enumerate(prob_flip):\n",
        "    total_mse = 0\n",
        "    # Iterate over testing images\n",
        "    for test_image in testing_data:\n",
        "        # Add salt-and-pepper noise\n",
        "        noisy_image = corrupt(test_image, p)\n",
        "        # Reconstruct the corrupted image\n",
        "        reconstructed_image = torch.sign(torch.matmul(W, noisy_image))\n",
        "        # Compute MSE between the reconstructed image and the original non-noisy image\n",
        "        mse_value = mse(reconstructed_image, test_image)\n",
        "        total_mse += mse_value.item()\n",
        "    # Compute average MSE for the current noise level\n",
        "    average_mse = total_mse / len(testing_data)\n",
        "    mses.append(average_mse)\n",
        "\n",
        "# Plot results\n",
        "plt.figure()\n",
        "plt.plot(prob_flip, mses)\n",
        "plt.xlabel('Probability of Bit Flip')\n",
        "plt.ylabel('Mean Squared Error')\n",
        "plt.title('Testing Error with Salt-and-Pepper Noise')\n",
        "plt.show()"
      ],
      "id": "o6kUDRcVwuiA"
    },
    {
      "cell_type": "markdown",
      "metadata": {
        "id": "v6E201v5wuiA"
      },
      "source": [
        "**2.b) [2 Mark]** Train Hopfield network using the pseudo-inverse and repeat the tasks 2.a) 2-4, however, for this example, ensure the threshold value is 0.  Even though the pseudo-inverse has a greater capacity thant he hopfield network, we will still test up to the theoretical capcity of the Hopfield learning rule."
      ],
      "id": "v6E201v5wuiA"
    },
    {
      "cell_type": "code",
      "execution_count": null,
      "metadata": {
        "id": "mB-EX-5vwuiA"
      },
      "outputs": [],
      "source": [
        "def pseudo_inv(X, lamb=0.01):\n",
        "    '''\n",
        "    pseudo_inv - Implements the pseudoinverse from the previous assignment.\n",
        "\n",
        "    Parameters:\n",
        "    -----------\n",
        "\n",
        "    X : torch.Tensor\n",
        "        A (num_patterns, num_features) Tensor holding the training data.\n",
        "\n",
        "    lamb : float\n",
        "        The regularization term for the pseudoinverse\n",
        "\n",
        "\n",
        "    Returns:\n",
        "    --------\n",
        "\n",
        "    The pseudoinverse of X\n",
        "    '''\n",
        "    return torch.inverse(X.T@X + lamb * torch.eye(X.shape[1]).float()) @ X.T\n",
        "\n",
        "def pseudoinverse_hopfield_matrix(training_patterns, lamb = 0.01):\n",
        "    '''\n",
        "    pseudoinverse_hopfield_matrix - Uses the regularized pseudoinverse to construct a weight matrix for\n",
        "        a non-modern Hopfield network.\n",
        "\n",
        "    Parameters:\n",
        "    -----------\n",
        "\n",
        "    training_patterns : torch.Tensor\n",
        "\n",
        "        The (num_patterns, num_features) Tensor containing the training data.\n",
        "\n",
        "    lamb : float\n",
        "\n",
        "        The regularization term for the pseudo-inverse.\n",
        "\n",
        "    Returns:\n",
        "    --------\n",
        "\n",
        "        The weight matrix compatible with the evaluate_hopfield_network function\n",
        "    '''\n",
        "    W = pseudo_inv(training_patterns, lamb=lamb) @ training_patterns\n",
        "    return W / training_patterns.shape[0]"
      ],
      "id": "mB-EX-5vwuiA"
    },
    {
      "cell_type": "markdown",
      "metadata": {
        "id": "bowYeTFlwuiB"
      },
      "source": [
        "**2.c) [1 Mark]** Show how the network behaves when an entire region of the image is corrupted.\n",
        "\n",
        "For your best performing network, take three test images and set half of the inputs to be equal to zero.  \n",
        "Plot the original images, the corrupted images, and the reconstructed images, side-by-side."
      ],
      "id": "bowYeTFlwuiB"
    },
    {
      "cell_type": "code",
      "execution_count": null,
      "metadata": {
        "id": "6ul_TnkLwuiB"
      },
      "outputs": [],
      "source": [
        "# Your code here"
      ],
      "id": "6ul_TnkLwuiB"
    },
    {
      "cell_type": "markdown",
      "metadata": {
        "id": "6I4G1XqAwuiB"
      },
      "source": [
        "# 3. Autoencoders\n",
        "\n",
        "Now we are going to train an autoencoder to perform the same associative task that we explored above.  We are going to define our Autoencoder using sigmoid neurons, which shouldn't be too terrible, since it is a relatively shallow network, but one is not obligated to use those.\n",
        "\n",
        "Because we are going to use a sigmoidal output function, so we should be concerned with values in the range $[0,1]$, instead of $\\{-1,1\\}$.  Training will be done using the original MNIST images, **not** the binary images.\n"
      ],
      "id": "6I4G1XqAwuiB"
    },
    {
      "cell_type": "code",
      "execution_count": null,
      "metadata": {
        "id": "qrp4_NfqwuiB"
      },
      "outputs": [],
      "source": [
        "from torch.utils.data import TensorDataset, DataLoader\n",
        "\n",
        "x_train_tensor = torch.from_numpy(x_train.reshape((-1,28*28)).astype(np.float32) / 255)\n",
        "x_test_tensor = torch.from_numpy(x_test.reshape((-1,28*28)).astype(np.float32) / 255)\n",
        "\n",
        "train_dataset = TensorDataset(x_train_tensor, x_train_tensor)\n",
        "train_loader = torch.utils.data.DataLoader(train_dataset, batch_size=1000, shuffle=True)\n",
        "\n",
        "test_dataset = TensorDataset(x_test_tensor, x_test_tensor)\n",
        "test_loader = torch.utils.data.DataLoader(test_dataset, batch_size=1000, shuffle=True)"
      ],
      "id": "qrp4_NfqwuiB"
    },
    {
      "cell_type": "code",
      "execution_count": null,
      "metadata": {
        "id": "AVehK5i4wuiB"
      },
      "outputs": [],
      "source": [
        "class Autoencoder(torch.nn.Module):\n",
        "    def __init__(self, num_inputs, num_hidden):\n",
        "        super().__init__()\n",
        "\n",
        "        # Building an linear encoder with Linear\n",
        "        # layer followed by Sigmoid activation function\n",
        "        self.encoder = torch.nn.Sequential(\n",
        "            torch.nn.Linear(num_inputs, num_hidden),\n",
        "            torch.nn.Sigmoid(),\n",
        "        )\n",
        "\n",
        "        # Building an linear decoder with Linear\n",
        "        # The Sigmoid activation function\n",
        "        # outputs the value between 0 and 1\n",
        "        self.decoder = torch.nn.Sequential(\n",
        "            torch.nn.Linear(num_hidden, num_inputs),\n",
        "            torch.nn.Sigmoid()\n",
        "        )\n",
        "\n",
        "    def forward(self, x):\n",
        "        encoded = self.encoder(x)\n",
        "        decoded = self.decoder(encoded)\n",
        "        return decoded"
      ],
      "id": "AVehK5i4wuiB"
    },
    {
      "cell_type": "code",
      "execution_count": null,
      "metadata": {
        "id": "XC-8o29GwuiB"
      },
      "outputs": [],
      "source": [
        "import torch.nn as nn\n",
        "import torch.nn.functional as F\n",
        "\n",
        "import numpy as np\n",
        "\n",
        "def continue_training():\n",
        "    network.train()      # configure the network for training\n",
        "    for i in range(10):  # train the network 10 times\n",
        "        epoch_loss = []\n",
        "        for data, target in train_loader:       # working in batchs of 1000\n",
        "            optimizer.zero_grad()               # initialize the learning system\n",
        "            output = network(data)              # feed in the data\n",
        "            loss = F.mse_loss(output, target)   # compute how wrong the output is\n",
        "            loss.backward()                     # change the weights to reduce error\n",
        "            optimizer.step()                    # update the learning rule\n",
        "            epoch_loss.append(loss.detach().numpy())\n",
        "\n",
        "\n",
        "    # update the list of training accuracy values\n",
        "    training_loss.append(np.mean(epoch_loss)) # store the loss for later.\n",
        "    print('Iteration', len(training_loss), 'Training loss:', training_loss[-1])\n",
        "\n",
        "    correct = 0\n",
        "    network.eval()\n",
        "    test_set_loss = []\n",
        "    for data, target in test_loader:    # go through the test data once (in groups of 1000)\n",
        "        output = network(data)                               # feed in the data\n",
        "        loss = F.mse_loss(output, target)\n",
        "        test_set_loss.append(loss.detach().numpy())\n",
        "\n",
        "\n",
        "    # update the list of testing accuracy values\n",
        "    testing_loss.append(np.mean(test_set_loss))\n",
        "    print('Iteration', len(testing_loss), 'Testing accuracy:', testing_loss[-1])"
      ],
      "id": "XC-8o29GwuiB"
    },
    {
      "cell_type": "markdown",
      "metadata": {
        "id": "xJpp8BZDwuiB"
      },
      "source": [
        "**3.1 [2 Marks]** For the autoencoder we will do the following:\n",
        "\n",
        "1. Train the network and plot the testing and training losses(repeated trials) for 5 different different values of the hidden layer size.  **Ensure the number of hidden layers is always less than the number of input features**.  Select a good number of training iterations (i.e., not overfitting) and a good number of hidden neurons\n",
        "2. Plot 10 input and reconstructed images from the training set and 10 from the testing set.  How do these compare to the reconstructions of from the Hopfield networks you constructed above?\n",
        "3. With your trained network, compare the loss on inputs corrupted salt and pepper noise.  Sweep through a range of number of pixels corrupted from 0 to 75\\%.  Because the image data is back in the range $[0,1]$, this time corrupt the image by setting pixels to equal 0 or 1 with 50\\% probability."
      ],
      "id": "xJpp8BZDwuiB"
    },
    {
      "cell_type": "code",
      "execution_count": null,
      "metadata": {
        "id": "C8bPB1kgwuiC"
      },
      "outputs": [],
      "source": [
        "network = ## Create the autoencoder here\n",
        "\n",
        "training_loss = []\n",
        "testing_loss = []\n",
        "\n",
        "# We're all hip, fashionable people here, let's use the Adam optimizer.\n",
        "optimizer = torch.optim.Adam(model.parameters(), lr = 1e-1)\n"
      ],
      "id": "C8bPB1kgwuiC"
    },
    {
      "cell_type": "markdown",
      "metadata": {
        "id": "Fwsw3wJLwuiC"
      },
      "source": [
        "**3.2 [1 Mark]** Described what you've observed about the results of the autoencoder, compared to the Hopfield networks."
      ],
      "id": "Fwsw3wJLwuiC"
    },
    {
      "cell_type": "markdown",
      "metadata": {
        "id": "3f11QMg6wuiC"
      },
      "source": [
        "#### Your answer here"
      ],
      "id": "3f11QMg6wuiC"
    },
    {
      "cell_type": "markdown",
      "metadata": {
        "id": "CYeDoeu4wuiC"
      },
      "source": [
        "**3.3 [1 Marks]** Sensory Preconditioning - Now we are going to look at small datasets. We are going to use the sensory preconditioning protocol, discussed by Gluck and Meyers.\n",
        "\n",
        "We will also need to construct a data set that performs the preconditioning.  We will break this down into three phases:\n",
        "\n",
        "1. Do the sensory preconditioning.  Plot the training loss vs number of epochs, describe the resultant behaviour."
      ],
      "id": "CYeDoeu4wuiC"
    },
    {
      "cell_type": "code",
      "execution_count": null,
      "metadata": {
        "id": "nBDotqyvwuiC"
      },
      "outputs": [],
      "source": [
        "# Phase 1: Train the network\n",
        "## features: s1, s2, context1, context2\n",
        "# we are teaching this network that these inputs only occur to gether, regardless of the context.\n",
        "stimuli = np.array([[0,0,0,0],\n",
        "                    [0,0,0,0],\n",
        "                    [0,0,1,0],\n",
        "                    [0,0,0,1],\n",
        "                    [0,0,1,1],\n",
        "                    [1,1,0,0],\n",
        "                    [1,1,0,0],\n",
        "                    [1,1,1,0],\n",
        "                    [1,1,0,1],\n",
        "                    [1,1,1,1]]).astype(np.float32)\n",
        "\n",
        "dataset = TensorDataset(torch.from_numpy(stimuli), torch.from_numpy(stimuli))\n",
        "data_loader = torch.utils.data.DataLoader(dataset, batch_size=8, shuffle=True)\n",
        "\n",
        "\n",
        "epochs = 2000\n",
        "outputs = []\n",
        "losses = []\n",
        "\n",
        "model = Autoencoder(4,3)# Your code here\n",
        "\n",
        "optimizer = torch.optim.Adam(model.parameters(), lr = 1e-1)\n",
        "loss_function = torch.nn.BCELoss()\n",
        "\n",
        "\n",
        "for epoch in range(epochs):\n",
        "    for (inp, out) in data_loader:\n",
        "\n",
        "        # Output of Autoencoder\n",
        "        reconstructed = model(inp)\n",
        "\n",
        "        # Calculating the loss function\n",
        "        loss = loss_function(reconstructed, out)\n",
        "\n",
        "        # The gradients are set to zero,\n",
        "        # the gradient is computed and stored.\n",
        "        # .step() performs parameter update\n",
        "        optimizer.zero_grad()\n",
        "        loss.backward()\n",
        "        optimizer.step()\n",
        "\n",
        "        # Storing the losses in a list for plotting\n",
        "        losses.append(loss.detach().numpy())\n",
        "        pass\n",
        "    outputs.append((epochs, inp, reconstructed))\n",
        "    pass"
      ],
      "id": "nBDotqyvwuiC"
    },
    {
      "cell_type": "code",
      "execution_count": null,
      "metadata": {
        "id": "HM1DxpmkwuiS"
      },
      "outputs": [],
      "source": [
        "# Plot loss performance.\n",
        "# Your code here"
      ],
      "id": "HM1DxpmkwuiS"
    },
    {
      "cell_type": "markdown",
      "metadata": {
        "id": "ryrRfp26wuiS"
      },
      "source": [
        "2. Train the conditioned response to one stimulus.  We will train this using simple linear regression where we map the the hidden state to the desired output.  You can reuse the linear regression code (```pseudo_inv```) from above.\n",
        "\n",
        "You will be learning a mapping from the hidden state of the autoencoder to the conditioning stimuli.\n",
        "\n",
        "Lets call the features (columns) of the stimuli data as s1, s2, c1, and c2."
      ],
      "id": "ryrRfp26wuiS"
    },
    {
      "cell_type": "code",
      "execution_count": null,
      "metadata": {
        "id": "cUwP1oYVwuiS"
      },
      "outputs": [],
      "source": [
        "\n",
        "conditioning_stimuli = torch.from_numpy(np.array([[0,0,0,0],\n",
        "                    [0,0,1,0],\n",
        "                    [0,0,0,1],\n",
        "                    [0,0,1,1],\n",
        "                    [1,0,0,0],\n",
        "                    [1,0,1,0],\n",
        "                    [1,0,0,1],\n",
        "                    [1,0,1,1]]).astype(np.float32))\n",
        "conditioning_outputs = torch.from_numpy(np.array([[0,0,0,0,1,1,1,1]]).astype(np.float32).T)\n",
        "\n",
        "conditioning_features = model.encoder(conditioning_stimuli)\n",
        "\n",
        "def get_weights(features, values, lamb=0.01):\n",
        "    pass # Your code here\n",
        "\n",
        "def evaluate(weights, features):\n",
        "    pass # your code here\n",
        "\n",
        "W = get_weights(conditioning_features, conditioning_outputs)\n",
        "conditioned_response = evaluate(W, conditioning_features[4:,:])"
      ],
      "id": "cUwP1oYVwuiS"
    },
    {
      "cell_type": "markdown",
      "metadata": {
        "id": "v8rczXF9wuiS"
      },
      "source": [
        "3. Report the strength of the conditioned response to the other stimulus.  Has the network transferred learning from one stimuls to the other?"
      ],
      "id": "v8rczXF9wuiS"
    },
    {
      "cell_type": "code",
      "execution_count": null,
      "metadata": {
        "id": "tiDL2UffwuiS"
      },
      "outputs": [],
      "source": [
        "test_stimuli = torch.from_numpy(np.array([\n",
        "                    [0,1,0,0],\n",
        "                    [0,1,1,0],\n",
        "                    [0,1,0,1],\n",
        "                    [0,1,1,1]]).astype(np.float32))\n",
        "\n",
        "testing_features = model.encoder(test_stimuli)\n",
        "\n",
        "transferred_response = evaluate(W, testing_features)\n"
      ],
      "id": "tiDL2UffwuiS"
    },
    {
      "cell_type": "markdown",
      "metadata": {
        "id": "sRr5I9EywuiS"
      },
      "source": [
        "4. Compare to the response of the system without either of the preconditioned inputs"
      ],
      "id": "sRr5I9EywuiS"
    },
    {
      "cell_type": "code",
      "execution_count": null,
      "metadata": {
        "id": "7ePMgr9xwuiS"
      },
      "outputs": [],
      "source": [
        "unconditioned_responses = evaluate(W, conditioning_features[:4,:])"
      ],
      "id": "7ePMgr9xwuiS"
    },
    {
      "cell_type": "markdown",
      "metadata": {
        "id": "qUEhOVVywuiS"
      },
      "source": [
        "5. Plot graphs showing the strength of the response to the conditioned stimuli, the pre-conditioned stimuli, and the unconditioned stimuli\n",
        "(*i.e.*, s1 = 0, s2 = 0, and context in $\\{(0,0),(0,1),(1,0),(1,1)\\}$)"
      ],
      "id": "qUEhOVVywuiS"
    },
    {
      "cell_type": "code",
      "execution_count": null,
      "metadata": {
        "id": "CIJk_VXRwuiS"
      },
      "outputs": [],
      "source": [
        "response_mu = None # Your code here\n",
        "response_std = None # your code here\n",
        "\n",
        "ax.bar([1,2,3], response_mu, yerr=response_std, align='center', alpha=0.5, ecolor='black', capsize=10)\n",
        "ax.set_ylabel('Conditioned Responses')\n",
        "ax.set_xticks([1,2,3], labels=['s1+', 's2+', 's1-,s2-'])"
      ],
      "id": "CIJk_VXRwuiS"
    },
    {
      "cell_type": "markdown",
      "metadata": {
        "id": "bL2kKn7ewuiT"
      },
      "source": [
        "**[BONUS]** [1 Mark] Repeat the sensory preconditioning, but use an conditioning stimulus that is not 100\\% correlated with the unconditioned stimulus. That is: change phase 2 so that it is not possible to perfectly predict the output."
      ],
      "id": "bL2kKn7ewuiT"
    }
  ],
  "metadata": {
    "kernelspec": {
      "display_name": "Python 3",
      "language": "python",
      "name": "python3"
    },
    "language_info": {
      "codemirror_mode": {
        "name": "ipython",
        "version": 3
      },
      "file_extension": ".py",
      "mimetype": "text/x-python",
      "name": "python",
      "nbconvert_exporter": "python",
      "pygments_lexer": "ipython3",
      "version": "3.8.5"
    },
    "colab": {
      "provenance": [],
      "include_colab_link": true
    }
  },
  "nbformat": 4,
  "nbformat_minor": 5
}