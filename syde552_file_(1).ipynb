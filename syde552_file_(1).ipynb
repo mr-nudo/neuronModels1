{
  "cells": [
    {
      "cell_type": "markdown",
      "metadata": {
        "id": "view-in-github",
        "colab_type": "text"
      },
      "source": [
        "<a href=\"https://colab.research.google.com/github/mr-nudo/neuronModels1/blob/master/syde552_file_(1).ipynb\" target=\"_parent\"><img src=\"https://colab.research.google.com/assets/colab-badge.svg\" alt=\"Open In Colab\"/></a>"
      ]
    },
    {
      "cell_type": "markdown",
      "metadata": {
        "id": "tMcAZgQeZXip"
      },
      "source": [
        "# SYDE 552 Assignment 1: Neuron Models\n",
        "### Due Monday, January 29, 11:59pm\n",
        "### Value: 15% of total marks for the course\n",
        "\n",
        "The purpose of this assigment is to give you experience working with neuron models of various complexitites. To do so, we'll be using the BRIAN2 neural simulator, a Python library for creating arbitrary spiking neuron models by defining the underlying equations. We'll provide a basic tutorial for BRIAN that should include everything needed to do this assigment, but for additional help and existing neuron implmenetations, see the links below.\n",
        "\n",
        "Work in groups of 1-2 people. Your code should be original, but you can borrow ideas and equations from these sources when building your models (please note when you do). Your submission will be a filled-out copy of this notebook (cells for code and written answers provided).\n",
        "\n",
        "Additional sources\n",
        " - Equations: Dayan and Abbott Ch.5-6, Gerstner et al Ch.1-2\n",
        " - BRIAN2 documentation: https://brian2.readthedocs.io/en/stable/index.html\n",
        " - Working examples: https://brian2.readthedocs.io/en/stable/resources/tutorials/index.html, https://brian2.readthedocs.io/en/stable/user/multicompartmental.html, https://neuronaldynamics-exercises.readthedocs.io/en/latest/"
      ]
    },
    {
      "cell_type": "markdown",
      "metadata": {
        "id": "hJeTm13FZXir"
      },
      "source": [
        "# Install and Import Libraries\n",
        "\n",
        "\n",
        "Install BRIAN2 (https://brian2.readthedocs.io/en/stable/introduction/install.html). You'll also need jupyter, numpy, scipy, and matplotlib. I reccomend using ```pip``` to install everything: from a terminal, run\n",
        "\n",
        "```pip install brian2```\n",
        "\n",
        "```pip install jupyter numpy scipy matplotlib```\n",
        "\n",
        "\n",
        "open this jupyter notebook with\n",
        "\n",
        "```jupyter notebook syde552assigment1.ipynb```"
      ]
    },
    {
      "cell_type": "code",
      "execution_count": 2,
      "metadata": {
        "colab": {
          "base_uri": "https://localhost:8080/"
        },
        "id": "-8WVhRemZXir",
        "outputId": "8dbd4947-a8ad-4fbc-a22d-aa49f5f50f0b"
      },
      "outputs": [
        {
          "output_type": "stream",
          "name": "stdout",
          "text": [
            "Collecting brian2\n",
            "  Downloading Brian2-2.5.4-cp310-cp310-manylinux_2_17_x86_64.manylinux2014_x86_64.whl (1.6 MB)\n",
            "\u001b[2K     \u001b[90m━━━━━━━━━━━━━━━━━━━━━━━━━━━━━━━━━━━━━━━━\u001b[0m \u001b[32m1.6/1.6 MB\u001b[0m \u001b[31m7.6 MB/s\u001b[0m eta \u001b[36m0:00:00\u001b[0m\n",
            "\u001b[?25hRequirement already satisfied: numpy>=1.21 in /usr/local/lib/python3.10/dist-packages (from brian2) (1.23.5)\n",
            "Requirement already satisfied: cython>=0.29 in /usr/local/lib/python3.10/dist-packages (from brian2) (3.0.8)\n",
            "Requirement already satisfied: sympy>=1.2 in /usr/local/lib/python3.10/dist-packages (from brian2) (1.12)\n",
            "Requirement already satisfied: pyparsing in /usr/local/lib/python3.10/dist-packages (from brian2) (3.1.1)\n",
            "Requirement already satisfied: jinja2>=2.7 in /usr/local/lib/python3.10/dist-packages (from brian2) (3.1.3)\n",
            "Requirement already satisfied: setuptools>=61 in /usr/local/lib/python3.10/dist-packages (from brian2) (67.7.2)\n",
            "Requirement already satisfied: packaging in /usr/local/lib/python3.10/dist-packages (from brian2) (23.2)\n",
            "Requirement already satisfied: MarkupSafe>=2.0 in /usr/local/lib/python3.10/dist-packages (from jinja2>=2.7->brian2) (2.1.3)\n",
            "Requirement already satisfied: mpmath>=0.19 in /usr/local/lib/python3.10/dist-packages (from sympy>=1.2->brian2) (1.3.0)\n",
            "Installing collected packages: brian2\n",
            "Successfully installed brian2-2.5.4\n",
            "Collecting jupyter\n",
            "  Downloading jupyter-1.0.0-py2.py3-none-any.whl (2.7 kB)\n",
            "Requirement already satisfied: numpy in /usr/local/lib/python3.10/dist-packages (1.23.5)\n",
            "Requirement already satisfied: scipy in /usr/local/lib/python3.10/dist-packages (1.11.4)\n",
            "Requirement already satisfied: matplotlib in /usr/local/lib/python3.10/dist-packages (3.7.1)\n",
            "Requirement already satisfied: notebook in /usr/local/lib/python3.10/dist-packages (from jupyter) (6.5.5)\n",
            "Collecting qtconsole (from jupyter)\n",
            "  Downloading qtconsole-5.5.1-py3-none-any.whl (123 kB)\n",
            "\u001b[2K     \u001b[90m━━━━━━━━━━━━━━━━━━━━━━━━━━━━━━━━━━━━━━━━\u001b[0m \u001b[32m123.4/123.4 kB\u001b[0m \u001b[31m1.2 MB/s\u001b[0m eta \u001b[36m0:00:00\u001b[0m\n",
            "\u001b[?25hRequirement already satisfied: jupyter-console in /usr/local/lib/python3.10/dist-packages (from jupyter) (6.1.0)\n",
            "Requirement already satisfied: nbconvert in /usr/local/lib/python3.10/dist-packages (from jupyter) (6.5.4)\n",
            "Requirement already satisfied: ipykernel in /usr/local/lib/python3.10/dist-packages (from jupyter) (5.5.6)\n",
            "Requirement already satisfied: ipywidgets in /usr/local/lib/python3.10/dist-packages (from jupyter) (7.7.1)\n",
            "Requirement already satisfied: contourpy>=1.0.1 in /usr/local/lib/python3.10/dist-packages (from matplotlib) (1.2.0)\n",
            "Requirement already satisfied: cycler>=0.10 in /usr/local/lib/python3.10/dist-packages (from matplotlib) (0.12.1)\n",
            "Requirement already satisfied: fonttools>=4.22.0 in /usr/local/lib/python3.10/dist-packages (from matplotlib) (4.47.2)\n",
            "Requirement already satisfied: kiwisolver>=1.0.1 in /usr/local/lib/python3.10/dist-packages (from matplotlib) (1.4.5)\n",
            "Requirement already satisfied: packaging>=20.0 in /usr/local/lib/python3.10/dist-packages (from matplotlib) (23.2)\n",
            "Requirement already satisfied: pillow>=6.2.0 in /usr/local/lib/python3.10/dist-packages (from matplotlib) (9.4.0)\n",
            "Requirement already satisfied: pyparsing>=2.3.1 in /usr/local/lib/python3.10/dist-packages (from matplotlib) (3.1.1)\n",
            "Requirement already satisfied: python-dateutil>=2.7 in /usr/local/lib/python3.10/dist-packages (from matplotlib) (2.8.2)\n",
            "Requirement already satisfied: six>=1.5 in /usr/local/lib/python3.10/dist-packages (from python-dateutil>=2.7->matplotlib) (1.16.0)\n",
            "Requirement already satisfied: ipython-genutils in /usr/local/lib/python3.10/dist-packages (from ipykernel->jupyter) (0.2.0)\n",
            "Requirement already satisfied: ipython>=5.0.0 in /usr/local/lib/python3.10/dist-packages (from ipykernel->jupyter) (7.34.0)\n",
            "Requirement already satisfied: traitlets>=4.1.0 in /usr/local/lib/python3.10/dist-packages (from ipykernel->jupyter) (5.7.1)\n",
            "Requirement already satisfied: jupyter-client in /usr/local/lib/python3.10/dist-packages (from ipykernel->jupyter) (6.1.12)\n",
            "Requirement already satisfied: tornado>=4.2 in /usr/local/lib/python3.10/dist-packages (from ipykernel->jupyter) (6.3.2)\n",
            "Requirement already satisfied: widgetsnbextension~=3.6.0 in /usr/local/lib/python3.10/dist-packages (from ipywidgets->jupyter) (3.6.6)\n",
            "Requirement already satisfied: jupyterlab-widgets>=1.0.0 in /usr/local/lib/python3.10/dist-packages (from ipywidgets->jupyter) (3.0.9)\n",
            "Requirement already satisfied: prompt-toolkit!=3.0.0,!=3.0.1,<3.1.0,>=2.0.0 in /usr/local/lib/python3.10/dist-packages (from jupyter-console->jupyter) (3.0.43)\n",
            "Requirement already satisfied: pygments in /usr/local/lib/python3.10/dist-packages (from jupyter-console->jupyter) (2.16.1)\n",
            "Requirement already satisfied: lxml in /usr/local/lib/python3.10/dist-packages (from nbconvert->jupyter) (4.9.4)\n",
            "Requirement already satisfied: beautifulsoup4 in /usr/local/lib/python3.10/dist-packages (from nbconvert->jupyter) (4.11.2)\n",
            "Requirement already satisfied: bleach in /usr/local/lib/python3.10/dist-packages (from nbconvert->jupyter) (6.1.0)\n",
            "Requirement already satisfied: defusedxml in /usr/local/lib/python3.10/dist-packages (from nbconvert->jupyter) (0.7.1)\n",
            "Requirement already satisfied: entrypoints>=0.2.2 in /usr/local/lib/python3.10/dist-packages (from nbconvert->jupyter) (0.4)\n",
            "Requirement already satisfied: jinja2>=3.0 in /usr/local/lib/python3.10/dist-packages (from nbconvert->jupyter) (3.1.3)\n",
            "Requirement already satisfied: jupyter-core>=4.7 in /usr/local/lib/python3.10/dist-packages (from nbconvert->jupyter) (5.7.1)\n",
            "Requirement already satisfied: jupyterlab-pygments in /usr/local/lib/python3.10/dist-packages (from nbconvert->jupyter) (0.3.0)\n",
            "Requirement already satisfied: MarkupSafe>=2.0 in /usr/local/lib/python3.10/dist-packages (from nbconvert->jupyter) (2.1.3)\n",
            "Requirement already satisfied: mistune<2,>=0.8.1 in /usr/local/lib/python3.10/dist-packages (from nbconvert->jupyter) (0.8.4)\n",
            "Requirement already satisfied: nbclient>=0.5.0 in /usr/local/lib/python3.10/dist-packages (from nbconvert->jupyter) (0.9.0)\n",
            "Requirement already satisfied: nbformat>=5.1 in /usr/local/lib/python3.10/dist-packages (from nbconvert->jupyter) (5.9.2)\n",
            "Requirement already satisfied: pandocfilters>=1.4.1 in /usr/local/lib/python3.10/dist-packages (from nbconvert->jupyter) (1.5.0)\n",
            "Requirement already satisfied: tinycss2 in /usr/local/lib/python3.10/dist-packages (from nbconvert->jupyter) (1.2.1)\n",
            "Requirement already satisfied: pyzmq<25,>=17 in /usr/local/lib/python3.10/dist-packages (from notebook->jupyter) (23.2.1)\n",
            "Requirement already satisfied: argon2-cffi in /usr/local/lib/python3.10/dist-packages (from notebook->jupyter) (23.1.0)\n",
            "Requirement already satisfied: nest-asyncio>=1.5 in /usr/local/lib/python3.10/dist-packages (from notebook->jupyter) (1.5.9)\n",
            "Requirement already satisfied: Send2Trash>=1.8.0 in /usr/local/lib/python3.10/dist-packages (from notebook->jupyter) (1.8.2)\n",
            "Requirement already satisfied: terminado>=0.8.3 in /usr/local/lib/python3.10/dist-packages (from notebook->jupyter) (0.18.0)\n",
            "Requirement already satisfied: prometheus-client in /usr/local/lib/python3.10/dist-packages (from notebook->jupyter) (0.19.0)\n",
            "Requirement already satisfied: nbclassic>=0.4.7 in /usr/local/lib/python3.10/dist-packages (from notebook->jupyter) (1.0.0)\n",
            "Collecting qtpy>=2.4.0 (from qtconsole->jupyter)\n",
            "  Downloading QtPy-2.4.1-py3-none-any.whl (93 kB)\n",
            "\u001b[2K     \u001b[90m━━━━━━━━━━━━━━━━━━━━━━━━━━━━━━━━━━━━━━━━\u001b[0m \u001b[32m93.5/93.5 kB\u001b[0m \u001b[31m3.7 MB/s\u001b[0m eta \u001b[36m0:00:00\u001b[0m\n",
            "\u001b[?25hRequirement already satisfied: setuptools>=18.5 in /usr/local/lib/python3.10/dist-packages (from ipython>=5.0.0->ipykernel->jupyter) (67.7.2)\n",
            "Collecting jedi>=0.16 (from ipython>=5.0.0->ipykernel->jupyter)\n",
            "  Downloading jedi-0.19.1-py2.py3-none-any.whl (1.6 MB)\n",
            "\u001b[2K     \u001b[90m━━━━━━━━━━━━━━━━━━━━━━━━━━━━━━━━━━━━━━━━\u001b[0m \u001b[32m1.6/1.6 MB\u001b[0m \u001b[31m12.2 MB/s\u001b[0m eta \u001b[36m0:00:00\u001b[0m\n",
            "\u001b[?25hRequirement already satisfied: decorator in /usr/local/lib/python3.10/dist-packages (from ipython>=5.0.0->ipykernel->jupyter) (4.4.2)\n",
            "Requirement already satisfied: pickleshare in /usr/local/lib/python3.10/dist-packages (from ipython>=5.0.0->ipykernel->jupyter) (0.7.5)\n",
            "Requirement already satisfied: backcall in /usr/local/lib/python3.10/dist-packages (from ipython>=5.0.0->ipykernel->jupyter) (0.2.0)\n",
            "Requirement already satisfied: matplotlib-inline in /usr/local/lib/python3.10/dist-packages (from ipython>=5.0.0->ipykernel->jupyter) (0.1.6)\n",
            "Requirement already satisfied: pexpect>4.3 in /usr/local/lib/python3.10/dist-packages (from ipython>=5.0.0->ipykernel->jupyter) (4.9.0)\n",
            "Requirement already satisfied: platformdirs>=2.5 in /usr/local/lib/python3.10/dist-packages (from jupyter-core>=4.7->nbconvert->jupyter) (4.1.0)\n",
            "Requirement already satisfied: jupyter-server>=1.8 in /usr/local/lib/python3.10/dist-packages (from nbclassic>=0.4.7->notebook->jupyter) (1.24.0)\n",
            "Requirement already satisfied: notebook-shim>=0.2.3 in /usr/local/lib/python3.10/dist-packages (from nbclassic>=0.4.7->notebook->jupyter) (0.2.3)\n",
            "Requirement already satisfied: fastjsonschema in /usr/local/lib/python3.10/dist-packages (from nbformat>=5.1->nbconvert->jupyter) (2.19.1)\n",
            "Requirement already satisfied: jsonschema>=2.6 in /usr/local/lib/python3.10/dist-packages (from nbformat>=5.1->nbconvert->jupyter) (4.19.2)\n",
            "Requirement already satisfied: wcwidth in /usr/local/lib/python3.10/dist-packages (from prompt-toolkit!=3.0.0,!=3.0.1,<3.1.0,>=2.0.0->jupyter-console->jupyter) (0.2.13)\n",
            "Requirement already satisfied: ptyprocess in /usr/local/lib/python3.10/dist-packages (from terminado>=0.8.3->notebook->jupyter) (0.7.0)\n",
            "Requirement already satisfied: argon2-cffi-bindings in /usr/local/lib/python3.10/dist-packages (from argon2-cffi->notebook->jupyter) (21.2.0)\n",
            "Requirement already satisfied: soupsieve>1.2 in /usr/local/lib/python3.10/dist-packages (from beautifulsoup4->nbconvert->jupyter) (2.5)\n",
            "Requirement already satisfied: webencodings in /usr/local/lib/python3.10/dist-packages (from bleach->nbconvert->jupyter) (0.5.1)\n",
            "Requirement already satisfied: parso<0.9.0,>=0.8.3 in /usr/local/lib/python3.10/dist-packages (from jedi>=0.16->ipython>=5.0.0->ipykernel->jupyter) (0.8.3)\n",
            "Requirement already satisfied: attrs>=22.2.0 in /usr/local/lib/python3.10/dist-packages (from jsonschema>=2.6->nbformat>=5.1->nbconvert->jupyter) (23.2.0)\n",
            "Requirement already satisfied: jsonschema-specifications>=2023.03.6 in /usr/local/lib/python3.10/dist-packages (from jsonschema>=2.6->nbformat>=5.1->nbconvert->jupyter) (2023.12.1)\n",
            "Requirement already satisfied: referencing>=0.28.4 in /usr/local/lib/python3.10/dist-packages (from jsonschema>=2.6->nbformat>=5.1->nbconvert->jupyter) (0.32.1)\n",
            "Requirement already satisfied: rpds-py>=0.7.1 in /usr/local/lib/python3.10/dist-packages (from jsonschema>=2.6->nbformat>=5.1->nbconvert->jupyter) (0.17.1)\n",
            "Requirement already satisfied: anyio<4,>=3.1.0 in /usr/local/lib/python3.10/dist-packages (from jupyter-server>=1.8->nbclassic>=0.4.7->notebook->jupyter) (3.7.1)\n",
            "Requirement already satisfied: websocket-client in /usr/local/lib/python3.10/dist-packages (from jupyter-server>=1.8->nbclassic>=0.4.7->notebook->jupyter) (1.7.0)\n",
            "Requirement already satisfied: cffi>=1.0.1 in /usr/local/lib/python3.10/dist-packages (from argon2-cffi-bindings->argon2-cffi->notebook->jupyter) (1.16.0)\n",
            "Requirement already satisfied: idna>=2.8 in /usr/local/lib/python3.10/dist-packages (from anyio<4,>=3.1.0->jupyter-server>=1.8->nbclassic>=0.4.7->notebook->jupyter) (3.6)\n",
            "Requirement already satisfied: sniffio>=1.1 in /usr/local/lib/python3.10/dist-packages (from anyio<4,>=3.1.0->jupyter-server>=1.8->nbclassic>=0.4.7->notebook->jupyter) (1.3.0)\n",
            "Requirement already satisfied: exceptiongroup in /usr/local/lib/python3.10/dist-packages (from anyio<4,>=3.1.0->jupyter-server>=1.8->nbclassic>=0.4.7->notebook->jupyter) (1.2.0)\n",
            "Requirement already satisfied: pycparser in /usr/local/lib/python3.10/dist-packages (from cffi>=1.0.1->argon2-cffi-bindings->argon2-cffi->notebook->jupyter) (2.21)\n",
            "Installing collected packages: qtpy, jedi, qtconsole, jupyter\n",
            "Successfully installed jedi-0.19.1 jupyter-1.0.0 qtconsole-5.5.1 qtpy-2.4.1\n"
          ]
        }
      ],
      "source": [
        "!pip install brian2\n",
        "!pip install jupyter numpy scipy matplotlib\n",
        "\n",
        "import numpy as np\n",
        "import scipy\n",
        "from brian2 import *\n",
        "import matplotlib.pyplot as plt"
      ]
    },
    {
      "cell_type": "markdown",
      "metadata": {
        "id": "zlsZViF7ZXis"
      },
      "source": [
        "# Intro to BRIAN2 (integrate-and-fire models)\n",
        "BRIAN uses a unit system to give the constants in neuron equations appropriate physical dimensions"
      ]
    },
    {
      "cell_type": "code",
      "execution_count": null,
      "metadata": {
        "colab": {
          "base_uri": "https://localhost:8080/"
        },
        "id": "-1xQNKP8ZXis",
        "outputId": "113e6a4e-d57f-4b67-f358-5c415721daff"
      },
      "outputs": [
        {
          "output_type": "stream",
          "name": "stdout",
          "text": [
            "-65. mV\n"
          ]
        }
      ],
      "source": [
        "v_demo = -65*mV  # voltage\n",
        "print(v_demo)"
      ]
    },
    {
      "cell_type": "markdown",
      "metadata": {
        "id": "0d2boyfvZXis"
      },
      "source": [
        "BRIAN does unit combinations, but will tell you when units don't match up"
      ]
    },
    {
      "cell_type": "code",
      "execution_count": null,
      "metadata": {
        "colab": {
          "base_uri": "https://localhost:8080/"
        },
        "id": "kXzSc-lNZXit",
        "outputId": "c01c343a-f385-4174-cda0-cc501c477873"
      },
      "outputs": [
        {
          "output_type": "stream",
          "name": "stdout",
          "text": [
            "-6.5 mA\n"
          ]
        }
      ],
      "source": [
        "r_demo = 10*ohm  # resistance\n",
        "i_demo = v_demo/r_demo  # calculate current\n",
        "print(i_demo)"
      ]
    },
    {
      "cell_type": "code",
      "execution_count": null,
      "metadata": {
        "colab": {
          "base_uri": "https://localhost:8080/",
          "height": 322
        },
        "id": "YoBB5YWjZXit",
        "outputId": "b90f7c39-929d-4e0d-c8ff-bdb6634ca64b"
      },
      "outputs": [
        {
          "output_type": "error",
          "ename": "DimensionMismatchError",
          "evalue": "Cannot calculate -65. mV + -6.5 mA, units do not match (units are V and A).",
          "traceback": [
            "\u001b[0;31m---------------------------------------------------------------------------\u001b[0m",
            "\u001b[0;31mDimensionMismatchError\u001b[0m                    Traceback (most recent call last)",
            "\u001b[0;32m<ipython-input-11-d7df740acba5>\u001b[0m in \u001b[0;36m<cell line: 1>\u001b[0;34m()\u001b[0m\n\u001b[0;32m----> 1\u001b[0;31m \u001b[0mv_demo\u001b[0m \u001b[0;34m+\u001b[0m \u001b[0mi_demo\u001b[0m  \u001b[0;31m# volts + amps = (invalid) - should produce a DimensionMismatchError\u001b[0m\u001b[0;34m\u001b[0m\u001b[0;34m\u001b[0m\u001b[0m\n\u001b[0m",
            "\u001b[0;32m/usr/local/lib/python3.10/dist-packages/brian2/units/fundamentalunits.py\u001b[0m in \u001b[0;36m__add__\u001b[0;34m(self, other)\u001b[0m\n\u001b[1;32m   1603\u001b[0m \u001b[0;34m\u001b[0m\u001b[0m\n\u001b[1;32m   1604\u001b[0m     \u001b[0;32mdef\u001b[0m \u001b[0m__add__\u001b[0m\u001b[0;34m(\u001b[0m\u001b[0mself\u001b[0m\u001b[0;34m,\u001b[0m \u001b[0mother\u001b[0m\u001b[0;34m)\u001b[0m\u001b[0;34m:\u001b[0m\u001b[0;34m\u001b[0m\u001b[0;34m\u001b[0m\u001b[0m\n\u001b[0;32m-> 1605\u001b[0;31m         return self._binary_operation(\n\u001b[0m\u001b[1;32m   1606\u001b[0m             \u001b[0mother\u001b[0m\u001b[0;34m,\u001b[0m \u001b[0moperator\u001b[0m\u001b[0;34m.\u001b[0m\u001b[0madd\u001b[0m\u001b[0;34m,\u001b[0m \u001b[0mfail_for_mismatch\u001b[0m\u001b[0;34m=\u001b[0m\u001b[0;32mTrue\u001b[0m\u001b[0;34m,\u001b[0m \u001b[0moperator_str\u001b[0m\u001b[0;34m=\u001b[0m\u001b[0;34m\"+\"\u001b[0m\u001b[0;34m\u001b[0m\u001b[0;34m\u001b[0m\u001b[0m\n\u001b[1;32m   1607\u001b[0m         )\n",
            "\u001b[0;32m/usr/local/lib/python3.10/dist-packages/brian2/units/fundamentalunits.py\u001b[0m in \u001b[0;36m_binary_operation\u001b[0;34m(self, other, operation, dim_operation, fail_for_mismatch, operator_str, inplace)\u001b[0m\n\u001b[1;32m   1540\u001b[0m                     \u001b[0;34m%\u001b[0m \u001b[0moperator_str\u001b[0m\u001b[0;34m\u001b[0m\u001b[0;34m\u001b[0m\u001b[0m\n\u001b[1;32m   1541\u001b[0m                 )\n\u001b[0;32m-> 1542\u001b[0;31m                 _, other_dim = fail_for_dimension_mismatch(\n\u001b[0m\u001b[1;32m   1543\u001b[0m                     \u001b[0mself\u001b[0m\u001b[0;34m,\u001b[0m \u001b[0mother\u001b[0m\u001b[0;34m,\u001b[0m \u001b[0mmessage\u001b[0m\u001b[0;34m,\u001b[0m \u001b[0mvalue1\u001b[0m\u001b[0;34m=\u001b[0m\u001b[0mself\u001b[0m\u001b[0;34m,\u001b[0m \u001b[0mvalue2\u001b[0m\u001b[0;34m=\u001b[0m\u001b[0mother\u001b[0m\u001b[0;34m\u001b[0m\u001b[0;34m\u001b[0m\u001b[0m\n\u001b[1;32m   1544\u001b[0m                 )\n",
            "\u001b[0;32m/usr/local/lib/python3.10/dist-packages/brian2/units/fundamentalunits.py\u001b[0m in \u001b[0;36mfail_for_dimension_mismatch\u001b[0;34m(obj1, obj2, error_message, **error_quantities)\u001b[0m\n\u001b[1;32m    258\u001b[0m             \u001b[0;32mraise\u001b[0m \u001b[0mDimensionMismatchError\u001b[0m\u001b[0;34m(\u001b[0m\u001b[0merror_message\u001b[0m\u001b[0;34m,\u001b[0m \u001b[0mdim1\u001b[0m\u001b[0;34m)\u001b[0m\u001b[0;34m\u001b[0m\u001b[0;34m\u001b[0m\u001b[0m\n\u001b[1;32m    259\u001b[0m         \u001b[0;32melse\u001b[0m\u001b[0;34m:\u001b[0m\u001b[0;34m\u001b[0m\u001b[0;34m\u001b[0m\u001b[0m\n\u001b[0;32m--> 260\u001b[0;31m             \u001b[0;32mraise\u001b[0m \u001b[0mDimensionMismatchError\u001b[0m\u001b[0;34m(\u001b[0m\u001b[0merror_message\u001b[0m\u001b[0;34m,\u001b[0m \u001b[0mdim1\u001b[0m\u001b[0;34m,\u001b[0m \u001b[0mdim2\u001b[0m\u001b[0;34m)\u001b[0m\u001b[0;34m\u001b[0m\u001b[0;34m\u001b[0m\u001b[0m\n\u001b[0m\u001b[1;32m    261\u001b[0m     \u001b[0;32melse\u001b[0m\u001b[0;34m:\u001b[0m\u001b[0;34m\u001b[0m\u001b[0;34m\u001b[0m\u001b[0m\n\u001b[1;32m    262\u001b[0m         \u001b[0;32mreturn\u001b[0m \u001b[0mdim1\u001b[0m\u001b[0;34m,\u001b[0m \u001b[0mdim2\u001b[0m\u001b[0;34m\u001b[0m\u001b[0;34m\u001b[0m\u001b[0m\n",
            "\u001b[0;31mDimensionMismatchError\u001b[0m: Cannot calculate -65. mV + -6.5 mA, units do not match (units are V and A)."
          ]
        }
      ],
      "source": [
        "v_demo + i_demo  # volts + amps = (invalid) - should produce a DimensionMismatchError"
      ]
    },
    {
      "cell_type": "markdown",
      "metadata": {
        "id": "Q9P4zmAdZXit"
      },
      "source": [
        "Equations are written as strings, adding a ```: unit``` at the end"
      ]
    },
    {
      "cell_type": "code",
      "execution_count": null,
      "metadata": {
        "id": "HB2bUw4gZXit"
      },
      "outputs": [],
      "source": [
        "tau = 10*ms\n",
        "eqn = '''dv/dt = -v/tau : mV'''"
      ]
    },
    {
      "cell_type": "markdown",
      "metadata": {
        "id": "MANcnRveZXit"
      },
      "source": [
        "Note that ```mV``` describes the unit for the new variable ```v``` that is being defined by the equation, not the quantity on the left-hand-side (which would here be mV/s).\n",
        "\n",
        "If you want to have the variable be unitless, you can type ```: 1```."
      ]
    },
    {
      "cell_type": "code",
      "execution_count": null,
      "metadata": {
        "id": "1oKOxjuFZXit"
      },
      "outputs": [],
      "source": [
        "eqn = '''\n",
        "dv/dt = (1-v)/tau: 1  # leak towards v_eq=1\n",
        "'''"
      ]
    },
    {
      "cell_type": "markdown",
      "metadata": {
        "id": "jNnJuFipZXit"
      },
      "source": [
        "Create a neuron by defining an \"ensemble\" (population) of neurons"
      ]
    },
    {
      "cell_type": "code",
      "execution_count": null,
      "metadata": {
        "id": "RvsRu-QUZXit"
      },
      "outputs": [],
      "source": [
        "ens = NeuronGroup(1, eqn, method='exact')  # n=1 neurons in the population, \"exact\" numerical integration"
      ]
    },
    {
      "cell_type": "markdown",
      "metadata": {
        "id": "BEWbbkLHZXiu"
      },
      "source": [
        "Set up a probe to record state variables from neurons in ```ens```"
      ]
    },
    {
      "cell_type": "code",
      "execution_count": null,
      "metadata": {
        "id": "kIooow9kZXiu"
      },
      "outputs": [],
      "source": [
        "p = StateMonitor(ens, 'v', record=True)"
      ]
    },
    {
      "cell_type": "markdown",
      "metadata": {
        "id": "WCWZfE2LZXiu"
      },
      "source": [
        "Run the simulation"
      ]
    },
    {
      "cell_type": "code",
      "execution_count": null,
      "metadata": {
        "id": "T4DkmezHZXiu"
      },
      "outputs": [],
      "source": [
        "run(100*ms)"
      ]
    },
    {
      "cell_type": "markdown",
      "metadata": {
        "id": "LNx-GH-IZXiu"
      },
      "source": [
        "Plot the result"
      ]
    },
    {
      "cell_type": "code",
      "execution_count": null,
      "metadata": {
        "colab": {
          "base_uri": "https://localhost:8080/",
          "height": 449
        },
        "id": "t_E20b7VZXiu",
        "outputId": "47230bfb-7c4c-432b-d9e0-2df3f3701626"
      },
      "outputs": [
        {
          "output_type": "display_data",
          "data": {
            "text/plain": [
              "<Figure size 640x480 with 1 Axes>"
            ],
            "image/png": "[encoded data removed]"
          },
          "metadata": {}
        }
      ],
      "source": [
        "fig, ax = plt.subplots()\n",
        "ax.plot(p.t, p.v[0])  # measuring from the first neuron in \"ens\" [index=0]\n",
        "ax.set(xlabel='time (ms)', ylabel='voltage')\n",
        "plt.show()"
      ]
    },
    {
      "cell_type": "markdown",
      "metadata": {
        "id": "L2SeBbk9ZXiu"
      },
      "source": [
        "Now let's add in a spiking mechanism, which includes a \"threshold\" and a \"reset\" mechanism.\n",
        "\n",
        "The ```threshold``` block defines the condition which must be met to register a \"spike\".\n",
        "\n",
        "The ```reset``` block defines what happens when a spike occurs.\n",
        "\n",
        "Before we start, let's explicitly create a scope for this particular model. This avoids accidentally carrying over from variables / constants defined earlier in the notebook."
      ]
    },
    {
      "cell_type": "code",
      "execution_count": null,
      "metadata": {
        "id": "BIgD1eWmZXiu"
      },
      "outputs": [],
      "source": [
        "start_scope()\n",
        "\n",
        "tau = 10*ms\n",
        "v_target = 10*mV\n",
        "theta = 5*mV\n",
        "v_reset = -20*mV\n",
        "\n",
        "eqn = '''dv/dt = (v_target - v)/tau : volt'''\n",
        "\n",
        "ens = NeuronGroup(1, eqn, threshold='v>theta', reset='v = v_reset', method='euler')"
      ]
    },
    {
      "cell_type": "markdown",
      "metadata": {
        "id": "jGH-l-UrZXiv"
      },
      "source": [
        "Notice that we started using real units, and changed our numerical integration scheme to a simple numerical solver (Euler's Method)\n",
        "\n",
        "We also need to define a new type of probe to collect spikes"
      ]
    },
    {
      "cell_type": "code",
      "execution_count": null,
      "metadata": {
        "id": "E06l8wPRZXiv"
      },
      "outputs": [],
      "source": [
        "p = StateMonitor(ens, 'v', record=True)\n",
        "p_s = SpikeMonitor(ens)"
      ]
    },
    {
      "cell_type": "code",
      "execution_count": null,
      "metadata": {
        "colab": {
          "base_uri": "https://localhost:8080/",
          "height": 449
        },
        "id": "dDmmsf82ZXiv",
        "outputId": "e7076718-b1ed-4163-fcda-c04d1efe69b3"
      },
      "outputs": [
        {
          "output_type": "display_data",
          "data": {
            "text/plain": [
              "<Figure size 640x480 with 1 Axes>"
            ],
            "image/png": "[encoded data removed]"
          },
          "metadata": {}
        }
      ],
      "source": [
        "run(50*ms)\n",
        "\n",
        "fig, ax = plt.subplots()\n",
        "ax.plot(p.t, p.v[0])\n",
        "ax.scatter(p_s.t, theta*np.ones((len(p_s.t))), color='r')\n",
        "ax.set(xlabel='time (ms)', ylabel='voltage (V)')\n",
        "plt.show()"
      ]
    },
    {
      "cell_type": "markdown",
      "metadata": {
        "id": "cz6L-H0TZXiv"
      },
      "source": [
        "Reset and refractory mechanisms can also be specified as complex expressions, each defined by its own string.\n",
        "\n",
        "We'll add a unitless state variable ```a``` that is incremented when a spike occurs, and increases the spike threshold and the refractor period"
      ]
    },
    {
      "cell_type": "code",
      "execution_count": null,
      "metadata": {
        "colab": {
          "base_uri": "https://localhost:8080/",
          "height": 449
        },
        "id": "nYgTME7BZXiv",
        "outputId": "20639612-c495-423b-f124-e84c1d9bcaeb"
      },
      "outputs": [
        {
          "output_type": "display_data",
          "data": {
            "text/plain": [
              "<Figure size 640x480 with 1 Axes>"
            ],
            "image/png": "[encoded data removed]"
          },
          "metadata": {}
        }
      ],
      "source": [
        "start_scope()\n",
        "\n",
        "tau = 10*ms\n",
        "v_target = 30*mV\n",
        "theta = 5*mV\n",
        "v_reset = -20*mV\n",
        "\n",
        "eqn = '''\n",
        "dv/dt = (v_target - v)/tau : volt  (unless refractory)\n",
        "a : 1  # unitless\n",
        "'''\n",
        "\n",
        "thr = '''v > theta + a*volt'''  # convert a to volts to allow addition\n",
        "\n",
        "rst = '''\n",
        "v = v_reset\n",
        "a += 0.01\n",
        "'''\n",
        "\n",
        "ref = '''a*200*ms'''\n",
        "\n",
        "ens = NeuronGroup(1, eqn, threshold=thr, reset=rst, refractory=ref, method='euler')\n",
        "\n",
        "p_v = StateMonitor(ens, 'v', record=True)\n",
        "p_a = StateMonitor(ens, 'a', record=True)\n",
        "p_s = SpikeMonitor(ens)\n",
        "\n",
        "run(100*ms)\n",
        "\n",
        "fig, ax = plt.subplots()\n",
        "ax.plot(p_v.t, p_v.v[0])\n",
        "ax.plot(p_a.t, p_a.a[0])\n",
        "ax.scatter(p_s.t, np.zeros((p_s.t.shape)), color='r')\n",
        "ax.set(xlabel='time (ms)', ylabel='voltage (V)')\n",
        "plt.show()"
      ]
    },
    {
      "cell_type": "markdown",
      "metadata": {
        "id": "71Mb-B_CZXiv"
      },
      "source": [
        "# Question 1: LIF Neuron\n",
        "\n",
        "## 1.1 [2 points] Implement the LIF neuron. Simulate the neuron with a 2mA external current. Plot voltage vs time.\n",
        "\n",
        "#### Equations:\n",
        "$\\frac{dV}{dt} = -\\frac{1}{RC}(V - E_{leak}) + \\frac{1}{C}I_{ext}$\n",
        "\n",
        "if $V>V_{thr}$:\n",
        "- set $V=V_{reset}$\n",
        "- begin a refractory period of $\\tau_{ref}$ ms\n",
        "\n",
        "#### Constants:\n",
        " - $R = 10$ ohm\n",
        " - $C = 1$ mfarad\n",
        " - $\\tau_{ref} = 2$ ms\n",
        " - $E_{leak} = -65$ mV\n",
        " - $V_{thr} = -50$ mV\n",
        " - $V_{reset} = -80$ mV\n",
        " - $I_{ext} = 2$ mA\n",
        "\n",
        "#### Notes\n",
        " - set state variables using ```ens.v = v_initial```"
      ]
    },
    {
      "cell_type": "code",
      "execution_count": 4,
      "metadata": {
        "id": "TIUwNgpNZXiv",
        "colab": {
          "base_uri": "https://localhost:8080/",
          "height": 449
        },
        "outputId": "c303776c-14e1-45e8-a14a-68c5edca3066"
      },
      "outputs": [
        {
          "output_type": "display_data",
          "data": {
            "text/plain": [
              "<Figure size 640x480 with 1 Axes>"
            ],
            "image/png": "[encoded data removed]"
          },
          "metadata": {}
        }
      ],
      "source": [
        "start_scope()\n",
        "\n",
        "# constants\n",
        "r = 10*ohm\n",
        "c = 1*mfarad\n",
        "e_leakk = -65*mV\n",
        "v_thrr = -50*mV\n",
        "v_resett = -80*mV\n",
        "i_ext = 2*mA\n",
        "eqn = '''dv/dt = -((1/(r * c)) * (v - e_leakk)) + (i_ext/c) : volt'''\n",
        "thrr = '''v > v_thrr'''\n",
        "rstt = '''v = v_resett'''\n",
        "reff = '''2*ms'''\n",
        "\n",
        "# ens = NeuronGroup(1, eqn, method='exact')\n",
        "ens = NeuronGroup(1, eqn, threshold=thrr, reset=rstt, refractory=reff, method='euler')\n",
        "ens.v = v_resett\n",
        "# probe = ...\n",
        "p = StateMonitor(ens, 'v', record=True)\n",
        "run(100*ms)\n",
        "# # figure = ...\n",
        "fig, ax = plt.subplots()\n",
        "ax.plot(p.t, p.v[0])\n",
        "ax.set(xlabel='time (ms)', ylabel='voltage')\n",
        "plt.show()"
      ]
    },
    {
      "cell_type": "markdown",
      "metadata": {
        "id": "8g85tEo1ZXiv"
      },
      "source": [
        "## 1.2 [2 points] Create response curves for the LIF neuron\n",
        " - (a) Inject a constant test current into the neuron, run the simulation, and count the number of spikes. Repeat this for a variety of test currents, then plot average firing rate (spikes/second) versus input current.\n",
        " - (b) Choose a new value of R or C, run the experiment from (a) again, and add the new response curve to your plot\n",
        " - (c) Choose a new value of tau_ref, run the experiment from (a) again, and overlay the new resopnse curve to your plot\n",
        "\n",
        "#### Parameters\n",
        "- Test currents: 1-20mA in increments of 0.5mA\n",
        "- Simulation duration: $200$ms"
      ]
    },
    {
      "cell_type": "code",
      "execution_count": 13,
      "metadata": {
        "id": "Hczu5eqHZXiv",
        "colab": {
          "base_uri": "https://localhost:8080/",
          "height": 486
        },
        "outputId": "5d6cb1d6-6eea-4bf0-f7d7-22184bbfc3a5"
      },
      "outputs": [
        {
          "output_type": "stream",
          "name": "stdout",
          "text": [
            "[1. * mamp, 1.5 * mamp, 2. * mamp, 2.5 * mamp, 3. * mamp, 3.5 * mamp, 4. * mamp, 4.5 * mamp, 5. * mamp, 5.5 * mamp, 6. * mamp, 6.5 * mamp, 7. * mamp, 7.5 * mamp, 8. * mamp, 8.5 * mamp, 9. * mamp, 9.5 * mamp, 10. * mamp] [1, 1, 11, 15, 19, 22, 26, 29, 33, 36, 40, 43, 46, 49, 53, 56, 59, 63, 65]\n"
          ]
        },
        {
          "output_type": "display_data",
          "data": {
            "text/plain": [
              "<Figure size 640x480 with 1 Axes>"
            ],
            "image/png": "[encoded data removed]"
          },
          "metadata": {}
        }
      ],
      "source": [
        "start_scope()\n",
        "\n",
        "# constants\n",
        "e_leakk = -65*mV\n",
        "v_thrr = -50*mV\n",
        "v_resett = -80*mV\n",
        "\n",
        "thrr = '''v > v_thrr'''\n",
        "rstt = '''v = v_resett'''\n",
        "\n",
        "I = []\n",
        "spike_counts_a = []\n",
        "spike_counts_b = []\n",
        "spike_counts_c = []\n",
        "\n",
        "R1 = 10*ohm\n",
        "C1 = 1*mfarad\n",
        "tau_ref1 = '''2*ms'''\n",
        "R2 = 20*ohm\n",
        "C2 = 5*mfarad\n",
        "tau_ref2 = '''8*ms'''\n",
        "current = 1.0\n",
        "while (current <= 10):\n",
        "  I.append(current*mA)\n",
        "  current = current + 0.5\n",
        "\n",
        "def LIF_response(I, R, C, tau_ref):\n",
        "  eqn = '''dv/dt = -((1/(R * C)) * (v - e_leakk)) + (I/C) : volt'''\n",
        "  ens = NeuronGroup(1, eqn, threshold=thrr, reset=rstt, refractory=tau_ref, method='euler')\n",
        "  p = StateMonitor(ens, 'v', record=True)\n",
        "  spikey = SpikeMonitor(ens)\n",
        "  run(200*ms)\n",
        "  return spikey.num_spikes\n",
        "\n",
        "for i in range(len(I)):\n",
        "  spike_counts_a.append(LIF_response(I[i], R1, C1, tau_ref1))\n",
        "\n",
        "for i in range(len(I)):\n",
        "    spike_counts_b.append(LIF_response(I[i], R2, C2, tau_ref1))\n",
        "for i in range(len(I)):\n",
        "    spike_counts_c.append(LIF_response(I[i], R1, C1, tau_ref2))\n",
        "\n",
        "# plot spike_counts_a, spike_counts_b, spike_counts_c\n",
        "fig, ax = plt.subplots()\n",
        "ax.plot(I, spike_counts_a)\n",
        "ax.plot(I, spike_counts_b)\n",
        "ax.plot(I, spike_counts_c)\n",
        "ax.set(xlabel='average firing rate (spikes/second)', ylabel='input current (mA)')\n",
        "plt.show()"
      ]
    },
    {
      "cell_type": "markdown",
      "metadata": {
        "id": "RBYmzARXZXiv"
      },
      "source": [
        "## 1.3 [2 points] Add an adaptation term to the LIF neuron. Calculate the inter-spike-interval and plot it versus spike number to demonstrate adaptation.\n",
        " - Inter-spike-interval (ISI) is defined as the length of time between two spikes. To calculate it, compute the difference between the spike times returned from a BRIAN spike monitor\n",
        "   - tip: use ```np.diff()```\n",
        " - Plot the resulting array of values as a scatter plot: $y$ values will be ISI in ms, and $x$ values will range from $1$ to $C$, the spike count value at the end of the simulation.\n",
        "\n",
        "#### Additional Equations\n",
        "$\\frac{da}{dt} = -\\frac{a}{\\tau_a}$\n",
        "\n",
        "$v_{thr} = -50mV + a$\n",
        "\n",
        "if $v > v_{thr}$:\n",
        "  - $a = a + \\Delta A$\n",
        "  \n",
        "#### Additional Constants\n",
        "- $I_{ext} = 2$mA\n",
        "- $\\tau_a = 100$ ms\n",
        "- $\\Delta A = 1$ mV\n",
        "- runtime = 500 ms"
      ]
    },
    {
      "cell_type": "code",
      "execution_count": null,
      "metadata": {
        "id": "CDpLvIQ_ZXiw"
      },
      "outputs": [],
      "source": [
        "# your solution here"
      ]
    },
    {
      "cell_type": "markdown",
      "metadata": {
        "id": "pIT4MKw-ZXiw"
      },
      "source": [
        "## [Bonus] 1.4 [1 point] Read about other extensions to the LIF model, such as quadratic- or exponential-integrate-and fire. Implement that neuron model, then\n",
        " - (a) plot the voltage trace\n",
        " - (b) plot the response curve\n",
        " - (c) plot spike adaptation"
      ]
    },
    {
      "cell_type": "code",
      "execution_count": null,
      "metadata": {
        "id": "BFfpOdbfZXiw"
      },
      "outputs": [],
      "source": [
        "# your solution here (optional)"
      ]
    },
    {
      "cell_type": "markdown",
      "metadata": {
        "id": "XTr5bAatZXiw"
      },
      "source": [
        "# Question 2: Wilson Neuron\n",
        "In his 1999 paper \"Simplified dynamics of human and mammalian neocortical neurons\", Wilson reduced the Hodgkin-Huxley model down to three coupled differential equations. He showed that this neuron model reproduced action potential dynamics and other electrophysiological measures without any artificial reset mechanisms.\n",
        "\n",
        "- $\\tau_v \\frac{dv}{dt} = -(17.81 + 47.58v + 33.80v^2)(v - 0.48) - 26r(v + 0.95) - 13h(v + 0.95) + I_{ext}$\n",
        "- $\\tau_r \\frac{dr}{dt} = -r + 1.29v + 0.79 + 3.30(V + 0.38)^2$\n",
        "- $\\tau_h \\frac{dh}{dt} = -h + 11(v + 0.754)*(v + 0.69)$"
      ]
    },
    {
      "cell_type": "markdown",
      "metadata": {
        "id": "yD8-xoHsZXiw"
      },
      "source": [
        "where $v$ is voltage, $r$ is a recovery variable, and $h$ is a conductance variable."
      ]
    },
    {
      "cell_type": "markdown",
      "metadata": {
        "id": "BOUrj2WXZXiw"
      },
      "source": [
        "- $\\tau_v = 0.97$ms\n",
        "- $\\tau_r = 5.6$ms\n",
        "- $\\tau_H = 99.0$ms\n",
        "- $dt = 0.05$ms"
      ]
    },
    {
      "cell_type": "markdown",
      "metadata": {
        "id": "PjagZ-a4ZXiw"
      },
      "source": [
        "## 2.1 [2 points] Implement the Wilson Neuron.  Produce an action potential by injecting an external current (I=3 for 0.1ms). Plot voltage vs time. How does the shape of the action potential compare to observed electrophysiology?\n",
        "\n",
        "#### Tips:\n",
        " - Units are weirdly defined in this model: ```v``` varies between $-0.9$ and $0.3$, and time constants are given in seconds. It's easiest to just make the state variables unitless (e.g.```dv/dt = ... : 1```)\n",
        " - set the simulation timestep using ```defaultclock.dt = 0.025*ms```\n",
        " - set initial conditions to keep the neuron from firing a transient spike at simulation startup:\n",
        "  - $v_0=-0.75$\n",
        "  - $r_0=0.2$\n",
        " - use ```v**2``` to write powers in an ```eqn=''' ... '''``` block, not ```v^2```\n",
        " - run the simulation long enough to observe the full recovery period"
      ]
    },
    {
      "cell_type": "code",
      "execution_count": null,
      "metadata": {
        "id": "HsyzTYOxZXi-"
      },
      "outputs": [],
      "source": [
        "# your solution here"
      ]
    },
    {
      "cell_type": "markdown",
      "metadata": {
        "id": "cU_9qtJjZXi-"
      },
      "source": [
        "##### Your description of the action potential here"
      ]
    },
    {
      "cell_type": "markdown",
      "metadata": {
        "id": "gY6d00O7ZXi_"
      },
      "source": [
        "### 2.2 [1 point] Coupled ODEs in complex neuron models are numerically sensitive, and the system can explode under certain conditions. Show that increasing the timestep or injecting a powerful, sustained current produces unrealistic voltage traces."
      ]
    },
    {
      "cell_type": "code",
      "execution_count": null,
      "metadata": {
        "id": "7hx368uCZXi_"
      },
      "outputs": [],
      "source": [
        "# your solution here"
      ]
    },
    {
      "cell_type": "markdown",
      "metadata": {
        "id": "wdGSYzhxZXi_"
      },
      "source": [
        "## 2.3 [1 point] Show the Wilson neuron exhibits spike adaptation by plotting ISI versus spike number. How does this adaptation compare to the adaptive LIF neuron from Question 1.3?\n",
        "\n",
        "#### Note\n",
        "- you will need to think of a good way to define a \"spike\" for continuous voltages"
      ]
    },
    {
      "cell_type": "code",
      "execution_count": null,
      "metadata": {
        "id": "sJ85l742ZXi_"
      },
      "outputs": [],
      "source": [
        "# your solution here"
      ]
    },
    {
      "cell_type": "markdown",
      "metadata": {
        "id": "gZ2THFkRZXi_"
      },
      "source": [
        "# Intro to BRIAN2 (compartmental models)\n",
        "\n",
        "BRIAN2 also support multicompartment models (https://brian2.readthedocs.io/en/stable/user/multicompartmental.html).  In addition to defining the equations governing the membrane dynamics (i.e. ion channels), building a compartmental neuron requires specifying a morphology. To do this, we'll use BRIAN2's pre-built sections"
      ]
    },
    {
      "cell_type": "code",
      "execution_count": null,
      "metadata": {
        "id": "BV-q82O8ZXi_"
      },
      "outputs": [],
      "source": [
        "soma = Soma(diameter=30*um)  # defines a sphere"
      ]
    },
    {
      "cell_type": "markdown",
      "metadata": {
        "id": "CCWXzjFoZXi_"
      },
      "source": [
        "Attach new sections to a previously defined section like so"
      ]
    },
    {
      "cell_type": "code",
      "execution_count": null,
      "metadata": {
        "id": "Ma0pUJCtZXi_"
      },
      "outputs": [],
      "source": [
        "soma.axon = Cylinder(length=100*um, diameter=1*um, n=10)  # n=10 compartments in this section\n",
        "soma.dendrite = Cylinder(length=50*um, diameter=2*um, n=5)\n",
        "soma.dendrite.branch1 = Cylinder(length=10*um, diameter=1*um, n=3)\n",
        "soma.dendrite.branch2 = Cylinder(length=10*um, diameter=1*um, n=3)"
      ]
    },
    {
      "cell_type": "markdown",
      "metadata": {
        "id": "-k7Q9R4yZXi_"
      },
      "source": [
        "Now we can define a SpatialNeuron according to our biophysical equations. BRIAN will automatically solve the cable equation between all the compartments, so specifying $\\frac{dv}{dt}$ and $\\frac{d^2v}{dx^2}$ is unnecessary: the user only needs to define the transmembrane and external currents. Notice that physical constants and state variables are now defined relative to space."
      ]
    },
    {
      "cell_type": "code",
      "execution_count": null,
      "metadata": {
        "id": "EHGs3mfUZXi_"
      },
      "outputs": [],
      "source": [
        "gL = 1e-4*siemens/cm**2  # leak conductance\n",
        "Cm = 1*uF/cm**2  # membrane capacitance\n",
        "Ri = 100*ohm*cm  # longitudinal (intracellular) resistivity\n",
        "EL = -70*mV  # leak reversal potential\n",
        "\n",
        "eqn = '''\n",
        "Im = gL * (EL - v) : amp/meter**2  # total ionic (membrance) current\n",
        "I : amp (point current)  # external current\n",
        "# dv/dt, d2v/dx2, and I_long are calculated automatically\n",
        "'''\n",
        "\n",
        "neuron = SpatialNeuron(morphology=soma, model=eqn, Cm=Cm, Ri=Ri)"
      ]
    },
    {
      "cell_type": "markdown",
      "metadata": {
        "id": "61Hr7Op_ZXjA"
      },
      "source": [
        "Set the membrane voltage of all compartments to -65mV, then apply an external current a few specific compartments. Note the use of ```.main``` to target a specific compartment"
      ]
    },
    {
      "cell_type": "code",
      "execution_count": null,
      "metadata": {
        "id": "er4ETFJzZXjA"
      },
      "outputs": [],
      "source": [
        "neuron.v = EL + 10*mV  # applies to state variables in soma compartment AND all connected compartments\n",
        "neuron.main.v = EL + 10*mV  # applies to state variables in soma compartment\n",
        "neuron.main.I[0] = 1*nA  # applies only to soma\n",
        "neuron.dendrite.I[3] = 0.5*nA  # applies to a compartment part way down the dendrite\n",
        "neuron.dendrite.branch1.I[1] = 0.5*nA"
      ]
    },
    {
      "cell_type": "markdown",
      "metadata": {
        "id": "3B5e3GCBZXjA"
      },
      "source": [
        "To detect spikes, we'll add a threshold condition. To ensure that multiple spikes don't get registered if this condition remains true for a while (e.g. v>v_thr), we'll also specify a refractory condition."
      ]
    },
    {
      "cell_type": "code",
      "execution_count": null,
      "metadata": {
        "id": "8OC-KEcrZXjA"
      },
      "outputs": [],
      "source": [
        "neuron = SpatialNeuron(morphology=soma, model=eqn,\n",
        "    threshold='v > 0*mV',\n",
        "    threshold_location=neuron.main[0],\n",
        "    refractory='v > 0*mV',\n",
        "    method=\"exponential_euler\")"
      ]
    },
    {
      "cell_type": "markdown",
      "metadata": {
        "id": "L1DiAU79ZXjA"
      },
      "source": [
        "# Question 3: Hodgkin Huxley Neurons\n",
        "\n",
        "A template for the Hodgkin-Huxley model is provided below, including various physical constants and a simple morphology. Note that voltage has been rescaled to $v_{rest} = 0$mV, and the equations for the gating variables have shifted accordingly."
      ]
    },
    {
      "cell_type": "markdown",
      "metadata": {
        "id": "ZD1VJ4YIZXjA"
      },
      "source": [
        "## 3.1 [2 points] Implement the Hodgkin-Huxley model by filling in the provided template. Plot voltage vs time and $m$, $n$, and $h$ versus time for an external input of ```1uA``` applied over ```3ms```."
      ]
    },
    {
      "cell_type": "code",
      "execution_count": null,
      "metadata": {
        "id": "R-sIH31bZXjA"
      },
      "outputs": [],
      "source": [
        "start_scope()\n",
        "\n",
        "E_leak = 10.613*mV\n",
        "E_na = 115*mV\n",
        "E_k = -12*mV\n",
        "g_leak = 0.3*msiemens/cm**2\n",
        "g_na = 120*msiemens/cm**2\n",
        "g_k = 36*msiemens/cm**2\n",
        "C_m = 1*uF/cm**2\n",
        "R_l = 35.4*ohm*cm\n",
        "\n",
        "# Fill in these equations\n",
        "eqn = '''\n",
        "Im = [...]  : amp/meter**2\n",
        "dm/dt = [...] : 1\n",
        "dn/dt = [...] : 1\n",
        "dh/dt = [...] : 1\n",
        "\n",
        "alpha_m = (0.1/mV) * 10*mV/exprel((-v+25*mV)/(10*mV))/ms : Hz  # exprel(x) := (exp(x) - 1)/x\n",
        "beta_m = 4 * exp(-v/(18*mV))/ms : Hz\n",
        "alpha_h = 0.07 * exp(-v/(20*mV))/ms : Hz\n",
        "beta_h = 1/(exp((-v+30*mV) / (10*mV)) + 1)/ms : Hz\n",
        "alpha_n = (0.01/mV) * 10*mV/exprel((-v+10*mV)/(10*mV))/ms : Hz\n",
        "beta_n = 0.125*exp(-v/(80*mV))/ms : Hz\n",
        "I : amp (point current)  # applied external current\n",
        "'''\n",
        "\n",
        "cable = Cylinder(length=10*cm, diameter=2*238*um, n=1000, type='axon')\n",
        "\n",
        "neuron = SpatialNeuron(morphology=cable, model=eqn, method=\"exponential_euler\", Cm=C_m, Ri=R_l)\n",
        "\n",
        "neuron.v = 0*mV\n",
        "neuron.h = 0.6\n",
        "neuron.m = 0.1\n",
        "neuron.n = 0.3\n",
        "defaultclock.dt = 0.01*ms\n",
        "\n",
        "run(10*ms)\n",
        "neuron.I[0] = 1*uA # current injection at one end of the axon\n",
        "run(3*ms)\n",
        "neuron.I = 0*uA\n",
        "run(10*ms)\n",
        "\n",
        "# plots here"
      ]
    },
    {
      "cell_type": "markdown",
      "metadata": {
        "id": "hF7pUHzwZXjA"
      },
      "source": [
        "## 3.2 [0.5 point] Show that the action potential propagates down the cable with minimal attenuation.\n",
        "- (a) plot voltage vs time at three points on the ```cable```: the left edge, center, and right edge.\n",
        "- (b) increase the longitudinal resistance and show that the signal propagates slower."
      ]
    },
    {
      "cell_type": "code",
      "execution_count": null,
      "metadata": {
        "id": "ec8IMssLZXjA"
      },
      "outputs": [],
      "source": [
        "# your solution here"
      ]
    },
    {
      "cell_type": "markdown",
      "metadata": {
        "id": "WrABLyB-ZXjA"
      },
      "source": [
        "## 3.3 [0.5 point] Create a stimulus that produces a rebound spike, and plot the resulting voltage trace"
      ]
    },
    {
      "cell_type": "code",
      "execution_count": null,
      "metadata": {
        "id": "ZeBAXS2EZXjB"
      },
      "outputs": [],
      "source": [
        "# your solution here"
      ]
    },
    {
      "cell_type": "markdown",
      "metadata": {
        "id": "FHIdx3drZXjB"
      },
      "source": [
        "## 3.4 [2 points] Create a new cell morphology that includes a soma and a dendritic tree with one branch. Show that voltage attenuation increases with the distance from the soma.\n",
        "- Use ```Cylinder()``` for dendritic sections, with geometric parameters in these ranges:\n",
        " - ```length=10-100um```\n",
        " - ```diameter=0.1-1um```\n",
        " - ```n=5-100```\n",
        "- Choose several points along the tree as injection sites.\n",
        "- For each site, apply an identical external current ```I=100*pA``` and measure the resulting voltage change at the soma ($\\Delta v = v_{rest} - v_{max}$).\n",
        "- Plot $\\Delta v$ vs distance. How does attenuation vary within a section and between sections (especially at branch points)?"
      ]
    },
    {
      "cell_type": "code",
      "execution_count": null,
      "metadata": {
        "id": "0MB8xNndZXjB"
      },
      "outputs": [],
      "source": [
        "# your solution here\n",
        "\n",
        "# soma = Soma()\n",
        "# soma.d1 = Cylinder(...)\n",
        "# soma.d1.d2 = Cylinder(...)\n",
        "# soma.d1.d3 = Cylinder(...)"
      ]
    },
    {
      "cell_type": "markdown",
      "metadata": {
        "id": "6ObY5fA0ZXjB"
      },
      "source": [
        "Your description of attenuation here"
      ]
    }
  ],
  "metadata": {
    "kernelspec": {
      "display_name": "Python 3 (ipykernel)",
      "language": "python",
      "name": "python3"
    },
    "language_info": {
      "codemirror_mode": {
        "name": "ipython",
        "version": 3
      },
      "file_extension": ".py",
      "mimetype": "text/x-python",
      "name": "python",
      "nbconvert_exporter": "python",
      "pygments_lexer": "ipython3",
      "version": "3.8.13"
    },
    "colab": {
      "provenance": [],
      "include_colab_link": true
    }
  },
  "nbformat": 4,
  "nbformat_minor": 0
}