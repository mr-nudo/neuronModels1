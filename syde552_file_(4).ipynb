{
  "cells": [
    {
      "cell_type": "markdown",
      "metadata": {
        "id": "view-in-github",
        "colab_type": "text"
      },
      "source": [
        "<a href=\"https://colab.research.google.com/github/mr-nudo/neuronModels1/blob/master/syde552_file_(4).ipynb\" target=\"_parent\"><img src=\"https://colab.research.google.com/assets/colab-badge.svg\" alt=\"Open In Colab\"/></a>"
      ]
    },
    {
      "cell_type": "markdown",
      "metadata": {
        "id": "9y_qmADtdteN"
      },
      "source": [
        "# SYDE 552 Assignment 4: Basal Ganglia\n",
        "### Due Monday, April 8, 11:59pm\n",
        "### Value: 15% of total marks for the course\n",
        "\n",
        "This assignment covers various forms of Action Selection, covering a standard feed-forward neural network model and a winner-take-all model.  The last section adds biological details to the winner-take-all model (synapses).  The intent is to show the creation a modification of small specific-purpose networks and to explore how timing affects neurons.\n",
        "\n",
        "You can work in groups to do the assignment, but your answers and code must be original to you. Your submission will be a filled-out copy of this notebook (cells for code and written answers provided)."
      ]
    },
    {
      "cell_type": "markdown",
      "metadata": {
        "id": "OGjlJI4KdteO"
      },
      "source": [
        "# 1. Action Selection with Feed-forward Neural Networks\n",
        "\n",
        "In order for the brain to choose which of many possible actions to select to perform at any given moment, it needs to be able to takke a list of numbers (indicating how good each action is in the current state, sometimes called the Value) and create an output that indicates which one is the largest.  For example, with the input `[0.2, 0.5, 0.8, 0.3]` we might want the output `[0, 0, 1, 0]`.  \n",
        "\n",
        "One way to approach this task is to train a normal feed-forward neural network on this task.  This would be similar to the digit recognition task from Assignment 2, except we would just have the list of values as input instead of the image.\n",
        "\n",
        "To create the dataset for training the network, we can just generate a random set of values between 0 and 1, and then compute which one is biggest to produce our target value."
      ]
    },
    {
      "cell_type": "code",
      "execution_count": 1,
      "metadata": {
        "id": "rR-s64x8dteP"
      },
      "outputs": [],
      "source": [
        "import numpy as np\n",
        "\n",
        "N = 4        # how many values in the list\n",
        "M = 10000    # how many random examples to make in the dataset\n",
        "\n",
        "X = np.random.uniform(0,1,(M,N))\n",
        "Y = np.argmax(X, axis=1)"
      ]
    },
    {
      "cell_type": "markdown",
      "metadata": {
        "id": "ou1p4zwRdteP"
      },
      "source": [
        "In order to train with this data in pytorch, we need to turn that array into a pytorch dataset, and to split it into training and testing.\n"
      ]
    },
    {
      "cell_type": "code",
      "execution_count": 2,
      "metadata": {
        "id": "T8cOPWCYdteP"
      },
      "outputs": [],
      "source": [
        "import torch\n",
        "dataset = torch.utils.data.TensorDataset(torch.Tensor(X),torch.Tensor(Y).long()) # create your datset\n",
        "\n",
        "train_dataset, test_dataset = torch.utils.data.random_split(dataset,[0.8,0.2])\n",
        "train_loader = torch.utils.data.DataLoader(train_dataset, batch_size=1000, shuffle=True)\n",
        "test_loader = torch.utils.data.DataLoader(test_dataset, batch_size=1000, shuffle=True)\n"
      ]
    },
    {
      "cell_type": "markdown",
      "metadata": {
        "id": "FHX2aqx7dteP"
      },
      "source": [
        "Now we have to define our network.  Here we define a simple neural network with 4 inputs, a hidden layer of 100 neurons, and 4 outputs."
      ]
    },
    {
      "cell_type": "code",
      "execution_count": 3,
      "metadata": {
        "id": "fdLvMuCndteQ"
      },
      "outputs": [],
      "source": [
        "import torch.nn as nn\n",
        "import torch.nn.functional as F\n",
        "\n",
        "class Net(nn.Module):\n",
        "    def __init__(self):\n",
        "        super(Net, self).__init__()\n",
        "        self.fc1 = nn.Linear(4, 100)    # the weights from the input to the new learned features (hidden layer)\n",
        "        self.fc2 = nn.Linear(100, 4)    # the weights from the hidden layer to the output\n",
        "\n",
        "    def forward(self, x):\n",
        "        # the processing the network will do\n",
        "        x = F.relu(self.fc1(x))         # apply the first set of weights, then apply the ReLU neuron model\n",
        "        x = self.fc2(x)                 # apply the second set of weights\n",
        "        return x\n",
        "\n",
        "network = Net()"
      ]
    },
    {
      "cell_type": "markdown",
      "metadata": {
        "id": "YGXyoVEFdteQ"
      },
      "source": [
        "Finally, we have to train the model.  Here is the exact same code from Assignemnt 2 for training\n"
      ]
    },
    {
      "cell_type": "code",
      "execution_count": 4,
      "metadata": {
        "id": "WsK_XBuodteQ"
      },
      "outputs": [],
      "source": [
        "# create the learning rule\n",
        "optimizer = torch.optim.SGD(network.parameters(),\n",
        "                            lr=0.1,   # learning rate\n",
        "                            momentum=0.5)\n",
        "\n",
        "# variables to keep track of the training and testing accuracy\n",
        "accuracy_train = []\n",
        "accuracy_test = []\n",
        "\n",
        "def continue_training():\n",
        "    network.train()      # configure the network for training\n",
        "    for i in range(10):  # train the network 10 times\n",
        "        correct = 0\n",
        "        for data, target in train_loader:       # working in batchs of 1000\n",
        "            optimizer.zero_grad()               # initialize the learning system\n",
        "            output = network(data)              # feed in the data\n",
        "            loss = F.nll_loss(output, target)   # compute how wrong the output is\n",
        "            loss.backward()                     # change the weights to reduce error\n",
        "            optimizer.step()                    # update the learning rule\n",
        "\n",
        "            pred = output.data.max(1, keepdim=True)[1]           # compute which output is largest\n",
        "            correct += pred.eq(target.data.view_as(pred)).sum()  # compute the number of correct outputs\n",
        "    # update the list of training accuracy values\n",
        "    score = float(correct/len(train_loader.dataset))\n",
        "    accuracy_train.append(score)\n",
        "    print('Iteration', len(accuracy_train), 'Training accuracy:', score)\n",
        "\n",
        "    correct = 0\n",
        "    network.eval()\n",
        "    for data, target in test_loader:    # go through the test data once (in groups of 1000)\n",
        "        output = network(data)                               # feed in the data\n",
        "        pred = output.data.max(1, keepdim=True)[1]           # compute which output is largest\n",
        "        correct += pred.eq(target.data.view_as(pred)).sum()  # compute the number of correct outputs\n",
        "    # update the list of testing accuracy values\n",
        "    score = float(correct/len(test_loader.dataset))\n",
        "    accuracy_test.append(score)\n",
        "    print('Iteration', len(accuracy_test), 'Testing accuracy:', score)\n"
      ]
    },
    {
      "cell_type": "markdown",
      "metadata": {
        "id": "8N6Mlo5tdteQ"
      },
      "source": [
        "**1. a) [1 mark]** Call `continue_training()` 10 times and then plot the training and testing accuracy (as you did in assignment 2 question 3a."
      ]
    },
    {
      "cell_type": "code",
      "source": [
        "import matplotlib.pyplot as plt\n",
        "\n",
        "for _ in range(10):\n",
        "  continue_training()\n",
        "\n",
        "# Plotting training and testing accuracy\n",
        "plt.plot(range(1, 11), accuracy_train, label='Training Accuracy')\n",
        "plt.plot(range(1, 11), accuracy_test, label='Testing Accuracy')\n",
        "plt.xlabel('Epoch')\n",
        "plt.ylabel('Accuracy')\n",
        "plt.title('Training and Testing Accuracy')\n",
        "plt.legend()\n",
        "plt.show()"
      ],
      "metadata": {
        "colab": {
          "base_uri": "https://localhost:8080/",
          "height": 829
        },
        "id": "YP73UFiaSE9l",
        "outputId": "45069c9b-a678-4bea-f574-58b76e224e4c"
      },
      "execution_count": 5,
      "outputs": [
        {
          "output_type": "stream",
          "name": "stdout",
          "text": [
            "Iteration 1 Training accuracy: 0.25200000405311584\n",
            "Iteration 1 Testing accuracy: 0.2540000081062317\n",
            "Iteration 2 Training accuracy: 0.2524999976158142\n",
            "Iteration 2 Testing accuracy: 0.2540000081062317\n",
            "Iteration 3 Training accuracy: 0.23725000023841858\n",
            "Iteration 3 Testing accuracy: 0.2540000081062317\n",
            "Iteration 4 Training accuracy: 0.2526249885559082\n",
            "Iteration 4 Testing accuracy: 0.2540000081062317\n",
            "Iteration 5 Training accuracy: 0.24912500381469727\n",
            "Iteration 5 Testing accuracy: 0.2370000034570694\n",
            "Iteration 6 Training accuracy: 0.24912500381469727\n",
            "Iteration 6 Testing accuracy: 0.2370000034570694\n",
            "Iteration 7 Training accuracy: 0.24912500381469727\n",
            "Iteration 7 Testing accuracy: 0.2370000034570694\n",
            "Iteration 8 Training accuracy: 0.24912500381469727\n",
            "Iteration 8 Testing accuracy: 0.2370000034570694\n",
            "Iteration 9 Training accuracy: 0.24912500381469727\n",
            "Iteration 9 Testing accuracy: 0.2370000034570694\n",
            "Iteration 10 Training accuracy: 0.24912500381469727\n",
            "Iteration 10 Testing accuracy: 0.2370000034570694\n"
          ]
        },
        {
          "output_type": "display_data",
          "data": {
            "text/plain": [
              "<Figure size 640x480 with 1 Axes>"
            ],
            "image/png": "[encoded data removed]"
          },
          "metadata": {}
        }
      ]
    },
    {
      "cell_type": "markdown",
      "metadata": {
        "id": "f3mIi9nzdteQ"
      },
      "source": [
        "**1. b) [1 mark]** In the previous question, the model did not get a very high accuracy.  To try to improve the accuracy, let's vary the number of neurons.  Try using 200 neurons, 500 neurons, and 1000 neurons.  For each one, generate the same plot as in 1a.  Does making the network larger in this way improve performance significantly?"
      ]
    },
    {
      "cell_type": "markdown",
      "metadata": {
        "id": "_wQCOjkXdteQ"
      },
      "source": [
        "**1. c) [1 mark]** Try making the network deeper by adding a second layer of neurons.  Use 500 neurons in each of the two middle layers.  Generate the same plot as in 1a.  Does making the network larger in this way improve performance significantly?"
      ]
    },
    {
      "cell_type": "markdown",
      "metadata": {
        "id": "EyZcKSfndteR"
      },
      "source": [
        "**1. d) [1 mark]** Starting with the original model in question 1a, let's modify the network in a different way.  In particular, in the current version of the model we have no neuron model at the output.  This is due to this part of the code:\n",
        "\n",
        "```python\n",
        "    def forward(self, x):\n",
        "        # the processing the network will do\n",
        "        x = F.relu(self.fc1(x))         # apply the first set of weights, then apply the ReLU neuron model\n",
        "        x = self.fc2(x)                 # apply the second set of weights\n",
        "        return x\n",
        "```\n",
        "\n",
        "For the first line (the hidden layer), we use a Rectified Linear neuron model (`F.relu`).  But we aren't doing that with the second line, where it creates the output.  Let's try adding a neuron model there by changing `x = self.fc2(x)` to `x = F.relu(self.fc2(x))`.\n",
        "\n",
        "Train the model again (by calling `continue_training` 10 times) and make the same plot as above.  Does this improve performance significantly?"
      ]
    },
    {
      "cell_type": "markdown",
      "metadata": {
        "id": "i-roDK_KdteR"
      },
      "source": [
        "**1. e) [1 mark]** Repeat 1.d but use `F.sigmoid` instead of `F.relu` for the output.  Plot the same graph as before.  You should see that this change makes an improvement over the results in the previous questions.  Why is this the case?"
      ]
    },
    {
      "cell_type": "markdown",
      "metadata": {
        "id": "skd2wTbFdteR"
      },
      "source": [
        "**1. f) [1 mark]** Try replacing the `F.sigmoid` with `F.softmax`.  The softmax function will scale up the largest value while scaling down the smaller values.  Repeat the previous question and plot the same graph.  You should see an even bigger improvement.  Why is this the case?  "
      ]
    },
    {
      "cell_type": "markdown",
      "metadata": {
        "id": "8sefW4P5dteR"
      },
      "source": [
        "**1. g) [1 mark]** Even though the model you built in 1f) does a good job of solving the task of producing the correct output, it seems to do this only if we include a `softmax` operation.  How might this be considered \"cheating\" (and thus this should not considered to be a good model of action selection in the brain)?"
      ]
    },
    {
      "cell_type": "markdown",
      "metadata": {
        "id": "QeUOcnREdteR"
      },
      "source": [
        "# 2. Action Selection with Winner-Take-All\n",
        "\n",
        "Given the results of the previous section, we need a different approach to do action selection.  Since a feed-forward approach led to difficulties, here we will explore a recurrent network: the standard \"winner-take-all\" circuit.  In this system, each neuron excites itself but inhibits the other neurons.\n",
        "\n",
        "Crucially, since this approach is recurrent, we can't just feed in an input and get an output.  Instead, we will feed in an input over time and see what the output is over time.  Rather than implement this in `pytorch`, we will just use normal numpy commands.\n",
        "\n",
        "The main configurable part of the model is how nuch the neurons excite themselves and how much they inhibit other neurons.  We can build this as a weight matrix that has the excitation on the diagonal and the inhibition everywhere else:\n"
      ]
    },
    {
      "cell_type": "code",
      "execution_count": null,
      "metadata": {
        "id": "Ai9cE6medteR",
        "outputId": "5df51b17-5e2b-4cbc-e7cb-96b0214dc9b0"
      },
      "outputs": [
        {
          "name": "stdout",
          "output_type": "stream",
          "text": [
            "[[ 1.  -0.9 -0.9 -0.9]\n",
            " [-0.9  1.  -0.9 -0.9]\n",
            " [-0.9 -0.9  1.  -0.9]\n",
            " [-0.9 -0.9 -0.9  1. ]]\n"
          ]
        }
      ],
      "source": [
        "w = np.zeros((N,N))\n",
        "w[:] = -0.9   # set the inhibition amount everywhere\n",
        "for i in range(N):\n",
        "    w[i,i] = 1   # set the excitatory connection\n",
        "\n",
        "print(w)"
      ]
    },
    {
      "cell_type": "markdown",
      "metadata": {
        "id": "vtGAQnoWdteR"
      },
      "source": [
        "To run the model, we pick a particular input that set that we will provide.  We then feed that value into the model, and add the value that the neurons send back to themselves.  We also include a `clip` operation that stops the neuron value from going below 0 or above 1.  We repeat this process multiple times, and we record the activity of the neurons so we can plot it afterwards."
      ]
    },
    {
      "cell_type": "code",
      "execution_count": null,
      "metadata": {
        "id": "PR0ygqcUdteS"
      },
      "outputs": [],
      "source": [
        "record = []                   # for recording the activity values\n",
        "activity = np.zeros(N)        # neurons are not active initially\n",
        "for i in range(10):\n",
        "    # the new neuron value is the old value times the weight matrix (for the neurons\n",
        "    #  inhibiting and exciting each other), plus the input benig added.\n",
        "    # we also clip the neurons so their activity doesn't go below 0 or above 1\n",
        "    activity = np.clip(input_values + w @ activity, 0, 1)\n",
        "    record.append(activity)"
      ]
    },
    {
      "cell_type": "markdown",
      "metadata": {
        "id": "ou-mKkhIdteS"
      },
      "source": [
        "**2. a) [1 mark]**  Run the model with an input of `[0.7, 0.8, 0.4, 0.3]`.  Plot the `record` of the activity.  Print the final `activity` value.  Does the network successfully output the desired correct results of `[0, 1, 0, 0]`?"
      ]
    },
    {
      "cell_type": "markdown",
      "metadata": {
        "id": "jd0VyKTBdteS"
      },
      "source": [
        "**2. b) [1 mark]**  Test the model using all the data in the `X` dataset you created in question 1.  (This should be all 10000 sets of 4 randomly generated numbers).  Note that since we didn't use any data to train the model, we are using all of it to test the model.\n",
        "\n",
        "To test the model, loop through all the items (`for input_values in X:`) and run the model as in question 2a.  To determine if the output is correct, you can do\n",
        "\n",
        "```python\n",
        "    target = np.zeros(N)\n",
        "    target[np.argmax(input_values)] = 1\n",
        "    if np.all(target == activity):\n",
        "        correct += 1\n",
        "```\n",
        "\n",
        "What proportion of the time does the model produce the correct output?"
      ]
    },
    {
      "cell_type": "markdown",
      "metadata": {
        "id": "1_7jOaeSdteS"
      },
      "source": [
        "**2. c) [1 mark]**  Try running the model for a longer time, rather than the 10 steps in the code provided.  Try 10, 20, 50, 100, 200, and 500.  Make a plot showing the proportion of time the model produces the ideal output for each of those numbers of timesteps."
      ]
    },
    {
      "cell_type": "markdown",
      "metadata": {
        "id": "IuWdwTdJdteS"
      },
      "source": [
        "**2. d) [2 marks]**  Try improving the model by adjusting the amount of inhibition (-0.9) and the amount of excitation (1).  Can you improve the proportion of time the model produces the correction output?  To simplify your experimentation, keep the number of timesteps as 20."
      ]
    },
    {
      "cell_type": "markdown",
      "metadata": {
        "id": "Qob8RvYfdteS"
      },
      "source": [
        "# 3. Action Selection with Winner-Take-All and a Synapse\n",
        "\n",
        "We are now going to add a biological detail to the Winner-Take-All system.  In biology, when there is a connection between neurons, there is a synapse, and the activity of that synapse decays slowly over time.  This means that when a spike occurs, the input into the next neuron will suddenly increase, and then slowly decrease.\n",
        "\n",
        "Here we will make a simple approximation of this process.  We will be implementing this as a *low-pass filter*.  The only parameter is the one that controls how quickly the synaptic activity will decay, and we will call this `tau`.  To implement a low-pass filter as part of our neuron model, we can compute the synaptic activity as follows, where `dt` is how long one timestep is in our model:\n",
        "\n",
        "```python\n",
        "alpha = 1-np.exp(-dt/tau)\n",
        "\n",
        "activity_syn = activity_syn + alpha * (activity - activity_syn)\n",
        "```\n",
        "\n",
        "Here is what that would look like for a single input that gave a single spike on the 5th timestep, where each timestep is 0.001 seconds and the synaptic time constant is 0.01 seconds (10 milliseconds):\n",
        "\n"
      ]
    },
    {
      "cell_type": "code",
      "execution_count": null,
      "metadata": {
        "id": "RosVtE2YdteS",
        "outputId": "a643ebaf-999a-44dd-b1fa-008907f25481"
      },
      "outputs": [
        {
          "data": {
            "image/png": "[encoded data removed]",
            "text/plain": [
              "<Figure size 640x480 with 1 Axes>"
            ]
          },
          "metadata": {},
          "output_type": "display_data"
        }
      ],
      "source": [
        "activity - np.zeros(1)\n",
        "activity_syn = np.zeros(1)\n",
        "\n",
        "dt = 0.001    # length of a timestep\n",
        "tau = 0.010   # time constant for the synapse\n",
        "alpha = 1-np.exp(-dt/tau)\n",
        "record = []\n",
        "for i in range(40):\n",
        "    activity = 0\n",
        "    if i == 5:\n",
        "        activity = 1\n",
        "    activity_syn = activity_syn + alpha * (activity - activity_syn)\n",
        "    record.append(activity_syn)\n",
        "\n",
        "import matplotlib.pyplot as plt\n",
        "plt.plot(record)\n",
        "plt.xlabel('timestep')\n",
        "plt.ylabel('synapse activity')\n",
        "plt.show()"
      ]
    },
    {
      "cell_type": "markdown",
      "metadata": {
        "id": "ncvEms6tdteS"
      },
      "source": [
        "While our winner-take-all model is not spiking, we can still add this synapse model to the system.  This would be done as follows:"
      ]
    },
    {
      "cell_type": "code",
      "execution_count": null,
      "metadata": {
        "id": "FDki64BVdteS"
      },
      "outputs": [],
      "source": [
        "record = []\n",
        "activity = np.zeros(N)        # the raw output from the neuron\n",
        "activity_syn = np.zeros(N)    # the output from the synapse\n",
        "for i in range(20):\n",
        "    activity = np.clip(input_values + w @ activity_syn, 0, 1)  # note we use activity_syn here, not activity\n",
        "    activity_syn += alpha * (activity - activity_syn)          # implement the synapse\n",
        "\n",
        "    record.append(activity_syn)\n"
      ]
    },
    {
      "cell_type": "markdown",
      "metadata": {
        "id": "RPoxvUO2dteS"
      },
      "source": [
        "**3. a) [1 mark]** Test the winner-take-all model with a synapse time constant of 10 milliseconds, inhibition of -0.9, and excitation of 1 against all the data in `X`, running it for 20 timesteps (with each timestep being 1 millisecond).  What proportion of time does it get the correct answer?  Repeat this for differet synapse time constants (try 0.001, 0.002, 0.005, 0.01, and 0.02 seconds) and generate a plot showing the accuracy as you change the time constant.\n"
      ]
    },
    {
      "cell_type": "markdown",
      "metadata": {
        "id": "GWWiIicpdteS"
      },
      "source": [
        "**3. b) [2 marks]** Try improving the model by adjusting the synaptic time constant, the amount of inhibition and the amount of excitation.  Can you improve the proportion of time the model produces the correct output?  To simplify your experimentation, keep the number of timesteps as 20.  As a hint, you should be able to get the model close to 99% accuracy!  This is an example of adding a biological detail to a model and having it improve its performance.\n"
      ]
    }
  ],
  "metadata": {
    "kernelspec": {
      "display_name": "Python 3",
      "language": "python",
      "name": "python3"
    },
    "language_info": {
      "codemirror_mode": {
        "name": "ipython",
        "version": 3
      },
      "file_extension": ".py",
      "mimetype": "text/x-python",
      "name": "python",
      "nbconvert_exporter": "python",
      "pygments_lexer": "ipython3",
      "version": "3.8.5"
    },
    "colab": {
      "provenance": [],
      "include_colab_link": true
    }
  },
  "nbformat": 4,
  "nbformat_minor": 0
}